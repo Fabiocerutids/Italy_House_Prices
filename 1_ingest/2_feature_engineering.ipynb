{
 "cells": [
  {
   "cell_type": "code",
   "execution_count": 1,
   "metadata": {},
   "outputs": [],
   "source": [
    "import pandas as pd\n",
    "from unidecode import unidecode\n",
    "from model2vec import StaticModel\n",
    "import matplotlib.pyplot as plt\n",
    "import numpy as np\n",
    "import spacy \n",
    "from nltk.corpus import stopwords\n",
    "import string \n",
    "import re \n",
    "pd.set_option('display.max_columns', None)\n",
    "pd.set_option('display.float_format', lambda x: '%.2f' % x)"
   ]
  },
  {
   "cell_type": "code",
   "execution_count": 2,
   "metadata": {},
   "outputs": [
    {
     "data": {
      "text/html": [
       "<div>\n",
       "<style scoped>\n",
       "    .dataframe tbody tr th:only-of-type {\n",
       "        vertical-align: middle;\n",
       "    }\n",
       "\n",
       "    .dataframe tbody tr th {\n",
       "        vertical-align: top;\n",
       "    }\n",
       "\n",
       "    .dataframe thead th {\n",
       "        text-align: right;\n",
       "    }\n",
       "</style>\n",
       "<table border=\"1\" class=\"dataframe\">\n",
       "  <thead>\n",
       "    <tr style=\"text-align: right;\">\n",
       "      <th></th>\n",
       "      <th>citta</th>\n",
       "      <th>bagni</th>\n",
       "      <th>stanze</th>\n",
       "      <th>piano</th>\n",
       "      <th>regione</th>\n",
       "      <th>m2</th>\n",
       "      <th>quartiere</th>\n",
       "      <th>description</th>\n",
       "      <th>via</th>\n",
       "      <th>disponibilità</th>\n",
       "      <th>prezzo</th>\n",
       "      <th>delta_pubblicazione</th>\n",
       "      <th>totale_piani</th>\n",
       "      <th>ascensore</th>\n",
       "      <th>cucina</th>\n",
       "      <th>camere</th>\n",
       "      <th>tipologia_casa</th>\n",
       "      <th>classe_casa</th>\n",
       "      <th>tipologia_proprietà</th>\n",
       "      <th>n posti auto</th>\n",
       "      <th>box privato</th>\n",
       "      <th>balcone</th>\n",
       "      <th>impianto tv singolo</th>\n",
       "      <th>porta blindata</th>\n",
       "      <th>parzialmente arredato</th>\n",
       "      <th>cantina</th>\n",
       "      <th>esposizione doppia</th>\n",
       "      <th>arredato</th>\n",
       "      <th>caminetto</th>\n",
       "      <th>terrazza</th>\n",
       "      <th>impianto di allarme</th>\n",
       "      <th>portiere</th>\n",
       "      <th>piscina_idromassaggio</th>\n",
       "      <th>videocitofono</th>\n",
       "      <th>cancello elettrico</th>\n",
       "      <th>fibra ottica</th>\n",
       "      <th>armadio a muro</th>\n",
       "      <th>impianto tv centralizzato</th>\n",
       "      <th>mansarda</th>\n",
       "      <th>giardino</th>\n",
       "      <th>infissi</th>\n",
       "      <th>house_id</th>\n",
       "    </tr>\n",
       "  </thead>\n",
       "  <tbody>\n",
       "    <tr>\n",
       "      <th>0</th>\n",
       "      <td>Rosignano Marittimo</td>\n",
       "      <td>1</td>\n",
       "      <td>quadrilocale</td>\n",
       "      <td>1</td>\n",
       "      <td>toscana</td>\n",
       "      <td>100</td>\n",
       "      <td>Piazza Pietro Gori</td>\n",
       "      <td>ROSIGNANO MARITTIMO – OTTIMO APPARTAMENTO IN C...</td>\n",
       "      <td>missing</td>\n",
       "      <td>Libero</td>\n",
       "      <td>123000.00</td>\n",
       "      <td>0</td>\n",
       "      <td>2</td>\n",
       "      <td>0</td>\n",
       "      <td>cucina abitabile</td>\n",
       "      <td>2</td>\n",
       "      <td>Appartamento</td>\n",
       "      <td>Classe immobile media</td>\n",
       "      <td>Intera proprietà</td>\n",
       "      <td>0</td>\n",
       "      <td>False</td>\n",
       "      <td>False</td>\n",
       "      <td>True</td>\n",
       "      <td>True</td>\n",
       "      <td>True</td>\n",
       "      <td>False</td>\n",
       "      <td>True</td>\n",
       "      <td>True</td>\n",
       "      <td>False</td>\n",
       "      <td>False</td>\n",
       "      <td>False</td>\n",
       "      <td>False</td>\n",
       "      <td>False</td>\n",
       "      <td>False</td>\n",
       "      <td>False</td>\n",
       "      <td>False</td>\n",
       "      <td>False</td>\n",
       "      <td>False</td>\n",
       "      <td>False</td>\n",
       "      <td>missing</td>\n",
       "      <td>doppio</td>\n",
       "      <td>house_0</td>\n",
       "    </tr>\n",
       "    <tr>\n",
       "      <th>1</th>\n",
       "      <td>Milano</td>\n",
       "      <td>1</td>\n",
       "      <td>pentalocale</td>\n",
       "      <td>3</td>\n",
       "      <td>lombardia</td>\n",
       "      <td>100</td>\n",
       "      <td>Certosa</td>\n",
       "      <td>ACCURSIO/CERTOSA, VIA MICHELINO DA BESOZZO, MI...</td>\n",
       "      <td>Via Michelino da Besozzo</td>\n",
       "      <td>Libero</td>\n",
       "      <td>345000.00</td>\n",
       "      <td>1</td>\n",
       "      <td>8</td>\n",
       "      <td>1</td>\n",
       "      <td>cucina abitabile</td>\n",
       "      <td>3</td>\n",
       "      <td>Appartamento</td>\n",
       "      <td>Classe immobile media</td>\n",
       "      <td>Intera proprietà</td>\n",
       "      <td>0</td>\n",
       "      <td>False</td>\n",
       "      <td>True</td>\n",
       "      <td>False</td>\n",
       "      <td>True</td>\n",
       "      <td>False</td>\n",
       "      <td>True</td>\n",
       "      <td>True</td>\n",
       "      <td>False</td>\n",
       "      <td>False</td>\n",
       "      <td>False</td>\n",
       "      <td>False</td>\n",
       "      <td>True</td>\n",
       "      <td>False</td>\n",
       "      <td>False</td>\n",
       "      <td>False</td>\n",
       "      <td>True</td>\n",
       "      <td>False</td>\n",
       "      <td>True</td>\n",
       "      <td>False</td>\n",
       "      <td>missing</td>\n",
       "      <td>singolo</td>\n",
       "      <td>house_1</td>\n",
       "    </tr>\n",
       "  </tbody>\n",
       "</table>\n",
       "</div>"
      ],
      "text/plain": [
       "                 citta bagni        stanze  piano    regione   m2  \\\n",
       "0  Rosignano Marittimo     1  quadrilocale      1    toscana  100   \n",
       "1               Milano     1   pentalocale      3  lombardia  100   \n",
       "\n",
       "            quartiere                                        description  \\\n",
       "0  Piazza Pietro Gori  ROSIGNANO MARITTIMO – OTTIMO APPARTAMENTO IN C...   \n",
       "1             Certosa  ACCURSIO/CERTOSA, VIA MICHELINO DA BESOZZO, MI...   \n",
       "\n",
       "                        via disponibilità    prezzo  delta_pubblicazione  \\\n",
       "0                   missing        Libero 123000.00                    0   \n",
       "1  Via Michelino da Besozzo        Libero 345000.00                    1   \n",
       "\n",
       "   totale_piani  ascensore            cucina  camere tipologia_casa  \\\n",
       "0             2          0  cucina abitabile       2   Appartamento   \n",
       "1             8          1  cucina abitabile       3   Appartamento   \n",
       "\n",
       "             classe_casa tipologia_proprietà  n posti auto  box privato  \\\n",
       "0  Classe immobile media    Intera proprietà             0        False   \n",
       "1  Classe immobile media    Intera proprietà             0        False   \n",
       "\n",
       "   balcone  impianto tv singolo  porta blindata  parzialmente arredato  \\\n",
       "0    False                 True            True                   True   \n",
       "1     True                False            True                  False   \n",
       "\n",
       "   cantina  esposizione doppia  arredato  caminetto  terrazza  \\\n",
       "0    False                True      True      False     False   \n",
       "1     True                True     False      False     False   \n",
       "\n",
       "   impianto di allarme  portiere  piscina_idromassaggio  videocitofono  \\\n",
       "0                False     False                  False          False   \n",
       "1                False      True                  False          False   \n",
       "\n",
       "   cancello elettrico  fibra ottica  armadio a muro  \\\n",
       "0               False         False           False   \n",
       "1               False          True           False   \n",
       "\n",
       "   impianto tv centralizzato  mansarda giardino  infissi house_id  \n",
       "0                      False     False  missing   doppio  house_0  \n",
       "1                       True     False  missing  singolo  house_1  "
      ]
     },
     "execution_count": 2,
     "metadata": {},
     "output_type": "execute_result"
    }
   ],
   "source": [
    "df_data = pd.read_csv('../data/sale_data/1_sale_clean.csv')\n",
    "df_data['house_id']='house_'+df_data.index.astype(str)\n",
    "df_data.head(2)"
   ]
  },
  {
   "cell_type": "markdown",
   "metadata": {},
   "source": [
    "### Aggiunta Popolazione e Reddito"
   ]
  },
  {
   "cell_type": "code",
   "execution_count": 3,
   "metadata": {},
   "outputs": [
    {
     "data": {
      "text/html": [
       "<div>\n",
       "<style scoped>\n",
       "    .dataframe tbody tr th:only-of-type {\n",
       "        vertical-align: middle;\n",
       "    }\n",
       "\n",
       "    .dataframe tbody tr th {\n",
       "        vertical-align: top;\n",
       "    }\n",
       "\n",
       "    .dataframe thead th {\n",
       "        text-align: right;\n",
       "    }\n",
       "</style>\n",
       "<table border=\"1\" class=\"dataframe\">\n",
       "  <thead>\n",
       "    <tr style=\"text-align: right;\">\n",
       "      <th></th>\n",
       "      <th>citta</th>\n",
       "      <th>POPOLAZIONE CENSITA UOMINI</th>\n",
       "      <th>POPOLAZIONE CENSITA DONNE</th>\n",
       "      <th>popolazione</th>\n",
       "    </tr>\n",
       "  </thead>\n",
       "  <tbody>\n",
       "    <tr>\n",
       "      <th>0</th>\n",
       "      <td>abano terme</td>\n",
       "      <td>9.556</td>\n",
       "      <td>10.567</td>\n",
       "      <td>20123</td>\n",
       "    </tr>\n",
       "    <tr>\n",
       "      <th>1</th>\n",
       "      <td>abbadia cerreto</td>\n",
       "      <td>139</td>\n",
       "      <td>136</td>\n",
       "      <td>275</td>\n",
       "    </tr>\n",
       "  </tbody>\n",
       "</table>\n",
       "</div>"
      ],
      "text/plain": [
       "             citta POPOLAZIONE CENSITA UOMINI POPOLAZIONE CENSITA DONNE  \\\n",
       "0      abano terme                      9.556                    10.567   \n",
       "1  abbadia cerreto                        139                       136   \n",
       "\n",
       "   popolazione  \n",
       "0        20123  \n",
       "1          275  "
      ]
     },
     "execution_count": 3,
     "metadata": {},
     "output_type": "execute_result"
    }
   ],
   "source": [
    "abitanti = pd.read_csv('../data/feature_data/abitanti.csv')\n",
    "abitanti['DESCRIZIONE COMUNE'] = abitanti['DESCRIZIONE COMUNE'].str.replace(\"'\",\"\").str.lower()\n",
    "abitanti.rename({'DESCRIZIONE COMUNE':'citta', 'POPOLAZIONE CENSITA TOTALE':'popolazione'}, axis=1, inplace=True)\n",
    "abitanti['popolazione']=abitanti['popolazione'].str.replace('.','').astype(int)\n",
    "abitanti.head(2)"
   ]
  },
  {
   "cell_type": "code",
   "execution_count": 4,
   "metadata": {},
   "outputs": [],
   "source": [
    "fix_citta_dict = {'Reggio Emilia': 'REGGIO NELLEMILIA', 'Montemagno':'MONTEMAGNO MONFERRATO', \n",
    "             'Calatafimi-Segesta':'CALATAFIMI SEGESTA','Giardini-Naxos':'GIARDINI NAXOS', 'Trentola-Ducenta':'TRENTOLA DUCENTA', \n",
    "             'Bolzano':'BOLZANO/BOZEN', 'Appiano sulla Strada del Vino':'APPIANO SULLA STRADA DEL VINO/EPPAN AN DER WEINSTRASSE', \n",
    "             'Laives':'LAIVES/LEIFERS', 'Merano':'MERANO/MERAN', 'Montescudo - Montecolombo':'MONTESCUDO - MONTE COLOMBO', \n",
    "             'Crespina e Lorenzana':'CRESPINA LORENZANA'}\n",
    "\n",
    "def fix_citta(city):\n",
    "    if city in fix_citta_dict.keys():\n",
    "        return fix_citta_dict[city]\n",
    "    return city"
   ]
  },
  {
   "cell_type": "code",
   "execution_count": 5,
   "metadata": {},
   "outputs": [],
   "source": [
    "df_data['citta'] = df_data['citta'].map(unidecode).str.replace(\"'\",\"\").map(fix_citta).str.lower()\n",
    "df_data = pd.merge(df_data, abitanti[['citta', 'popolazione']], how='left', on='citta')\n",
    "df_data.loc[df_data['popolazione'].isna(), 'popolazione']=-1"
   ]
  },
  {
   "cell_type": "code",
   "execution_count": 6,
   "metadata": {},
   "outputs": [],
   "source": [
    "reddito = pd.read_csv('../data/feature_data/reddito_by_regione.csv')\n",
    "reddito = reddito[reddito['T_D8']=='REDD_MEDIANO_FAM'][['Territorio', 'Value']].rename({'Territorio':'regione', 'Value':'reddito mediano'}, axis=1)\n",
    "df_data['regione']=df_data['regione'].str.lower()\n",
    "reddito['regione'] = reddito['regione'].str.lower()\n",
    "reddito.loc[reddito['regione']==\"valle d'aosta / vallée d'aoste\", 'regione'] = 'valle-d-aosta'\n",
    "reddito.loc[reddito['regione']==\"provincia autonoma bolzano / bozen\", 'regione'] = 'trentino-alto-adige'\n",
    "reddito.loc[reddito['regione']==\"friuli-venezia giulia\", 'regione'] = 'friuli-venezia-giulia'\n",
    "df_data = pd.merge(df_data, reddito, how='left', on='regione')"
   ]
  },
  {
   "cell_type": "markdown",
   "metadata": {},
   "source": [
    "### Valutazione description"
   ]
  },
  {
   "cell_type": "code",
   "execution_count": 7,
   "metadata": {},
   "outputs": [
    {
     "data": {
      "text/plain": [
       "da ristrutturare\n",
       "False    15396\n",
       "True       847\n",
       "Name: count, dtype: int64"
      ]
     },
     "execution_count": 7,
     "metadata": {},
     "output_type": "execute_result"
    }
   ],
   "source": [
    "df_data['da ristrutturare'] = False\n",
    "df_data.loc[df_data['description'].str.lower().str.contains('ristrutturare'), 'da ristrutturare'] = True\n",
    "df_data['da ristrutturare'].value_counts()"
   ]
  },
  {
   "cell_type": "code",
   "execution_count": 8,
   "metadata": {},
   "outputs": [
    {
     "data": {
      "text/plain": [
       "ristrutturato\n",
       "False    12647\n",
       "True      3596\n",
       "Name: count, dtype: int64"
      ]
     },
     "execution_count": 8,
     "metadata": {},
     "output_type": "execute_result"
    }
   ],
   "source": [
    "df_data['ristrutturato'] = False\n",
    "df_data.loc[df_data['description'].str.lower().str.contains('ristrutturat'), 'ristrutturato'] = True\n",
    "df_data['ristrutturato'].value_counts()"
   ]
  },
  {
   "cell_type": "code",
   "execution_count": 9,
   "metadata": {},
   "outputs": [
    {
     "data": {
      "text/plain": [
       "ben collegato\n",
       "False    14746\n",
       "True      1497\n",
       "Name: count, dtype: int64"
      ]
     },
     "execution_count": 9,
     "metadata": {},
     "output_type": "execute_result"
    }
   ],
   "source": [
    "df_data['ben collegato'] = False\n",
    "df_data.loc[df_data['description'].str.lower().str.contains('collegat'), 'ben collegato'] = True\n",
    "df_data['ben collegato'].value_counts()"
   ]
  },
  {
   "cell_type": "code",
   "execution_count": 10,
   "metadata": {},
   "outputs": [
    {
     "data": {
      "text/plain": [
       "lavanderia\n",
       "False    12985\n",
       "True      3258\n",
       "Name: count, dtype: int64"
      ]
     },
     "execution_count": 10,
     "metadata": {},
     "output_type": "execute_result"
    }
   ],
   "source": [
    "df_data['lavanderia'] = False\n",
    "df_data.loc[df_data['description'].str.lower().str.contains('lavanderia'), 'lavanderia'] = True\n",
    "df_data['lavanderia'].value_counts()"
   ]
  },
  {
   "cell_type": "code",
   "execution_count": 11,
   "metadata": {},
   "outputs": [
    {
     "data": {
      "text/plain": [
       "ripostiglio\n",
       "False    11564\n",
       "True      4679\n",
       "Name: count, dtype: int64"
      ]
     },
     "execution_count": 11,
     "metadata": {},
     "output_type": "execute_result"
    }
   ],
   "source": [
    "df_data['ripostiglio'] = False\n",
    "df_data.loc[df_data['description'].str.lower().str.contains('ripostiglio'), 'ripostiglio'] = True\n",
    "df_data['ripostiglio'].value_counts()"
   ]
  },
  {
   "cell_type": "code",
   "execution_count": 12,
   "metadata": {},
   "outputs": [
    {
     "data": {
      "text/plain": [
       "bagno finestrato\n",
       "False    14215\n",
       "True      2028\n",
       "Name: count, dtype: int64"
      ]
     },
     "execution_count": 12,
     "metadata": {},
     "output_type": "execute_result"
    }
   ],
   "source": [
    "df_data['bagno finestrato'] = False\n",
    "df_data.loc[(df_data['description'].str.lower().str.contains('bagno finestrato')) | (df_data['description'].str.lower().str.contains('bagni finestrati')), 'bagno finestrato'] = True\n",
    "df_data['bagno finestrato'].value_counts()"
   ]
  },
  {
   "cell_type": "code",
   "execution_count": 13,
   "metadata": {},
   "outputs": [
    {
     "data": {
      "text/plain": [
       "luminoso\n",
       "False    12932\n",
       "True      3311\n",
       "Name: count, dtype: int64"
      ]
     },
     "execution_count": 13,
     "metadata": {},
     "output_type": "execute_result"
    }
   ],
   "source": [
    "df_data['luminoso'] = False\n",
    "df_data.loc[df_data['description'].str.lower().str.contains('luminoso'), 'luminoso'] = True\n",
    "df_data['luminoso'].value_counts()"
   ]
  },
  {
   "cell_type": "code",
   "execution_count": 14,
   "metadata": {},
   "outputs": [
    {
     "data": {
      "text/plain": [
       "parquet\n",
       "False    14787\n",
       "True      1456\n",
       "Name: count, dtype: int64"
      ]
     },
     "execution_count": 14,
     "metadata": {},
     "output_type": "execute_result"
    }
   ],
   "source": [
    "df_data['parquet'] = False\n",
    "df_data.loc[df_data['description'].str.lower().str.contains('parquet'), 'parquet'] = True\n",
    "df_data['parquet'].value_counts()"
   ]
  },
  {
   "cell_type": "code",
   "execution_count": 15,
   "metadata": {},
   "outputs": [
    {
     "data": {
      "text/plain": [
       "aria condizionata\n",
       "False    14401\n",
       "True      1842\n",
       "Name: count, dtype: int64"
      ]
     },
     "execution_count": 15,
     "metadata": {},
     "output_type": "execute_result"
    }
   ],
   "source": [
    "df_data['aria condizionata'] = False\n",
    "df_data.loc[df_data['description'].str.lower().str.contains('aria condizionata'), 'aria condizionata'] = True\n",
    "df_data['aria condizionata'].value_counts()"
   ]
  },
  {
   "cell_type": "code",
   "execution_count": 16,
   "metadata": {},
   "outputs": [
    {
     "data": {
      "text/plain": [
       "parchi e verde\n",
       "False    13519\n",
       "True      2724\n",
       "Name: count, dtype: int64"
      ]
     },
     "execution_count": 16,
     "metadata": {},
     "output_type": "execute_result"
    }
   ],
   "source": [
    "df_data['parchi e verde'] = False\n",
    "df_data.loc[(df_data['description'].str.lower().str.contains('parchi')) | (df_data['description'].str.lower().str.contains('verde')), 'parchi e verde'] = True\n",
    "df_data['parchi e verde'].value_counts()"
   ]
  },
  {
   "cell_type": "code",
   "execution_count": 17,
   "metadata": {},
   "outputs": [
    {
     "data": {
      "text/plain": [
       "ultimo\n",
       "False    14272\n",
       "True      1971\n",
       "Name: count, dtype: int64"
      ]
     },
     "execution_count": 17,
     "metadata": {},
     "output_type": "execute_result"
    }
   ],
   "source": [
    "df_data['ultimo'] = False\n",
    "df_data.loc[df_data['description'].str.lower().str.contains('ultimo'), 'ultimo'] = True\n",
    "df_data['ultimo'].value_counts()"
   ]
  },
  {
   "cell_type": "code",
   "execution_count": 18,
   "metadata": {},
   "outputs": [],
   "source": [
    "nlp = spacy.load('it_core_news_sm',  disable=['ner', 'textcat'])"
   ]
  },
  {
   "cell_type": "code",
   "execution_count": 19,
   "metadata": {},
   "outputs": [],
   "source": [
    "clean_stopwords = set(stopwords.words('italian'))\n",
    "clean_punctuation = ''.join(set(string.punctuation))\n",
    "def lemmatize(text):\n",
    "    return ' '.join(token.lemma_ for token in nlp(text))\n",
    "\n",
    "def remove_punct(text):\n",
    "    return text.translate(str.maketrans('', '', clean_punctuation)) \n",
    "\n",
    "def remove_stopwords(text):\n",
    "    return ' '.join(i.lower().strip() for i in lemmatize(text).split() if i not in clean_stopwords and len(i)>=2)\n",
    "\n",
    "def remove_email(text):\n",
    "    return re.sub(r'[A-Za-z0-9]*@[A-Za-z]*\\.?[A-Za-z0-9]*', \"\", text)\n",
    "\n",
    "def remove_numbers(text):\n",
    "    return re.sub(r'[0-9]+',\"\", text)\n",
    "\n",
    "def clean_text(text):\n",
    "    text = remove_email(text)\n",
    "    text = lemmatize(text)\n",
    "    text = remove_punct(text)\n",
    "    text = remove_stopwords(text)\n",
    "    text = remove_numbers(text)\n",
    "    return text"
   ]
  },
  {
   "cell_type": "code",
   "execution_count": 20,
   "metadata": {},
   "outputs": [],
   "source": [
    "df_data.reset_index(drop=True, inplace=True)\n",
    "df_data['description'] = df_data['description'].map(clean_text)"
   ]
  },
  {
   "cell_type": "code",
   "execution_count": 21,
   "metadata": {},
   "outputs": [
    {
     "name": "stderr",
     "output_type": "stream",
     "text": [
      "c:\\Users\\faceru\\OneDrive - SAS\\Documents\\Personal\\Italy_House_Prices\\house_env\\Lib\\site-packages\\tqdm\\auto.py:21: TqdmWarning: IProgress not found. Please update jupyter and ipywidgets. See https://ipywidgets.readthedocs.io/en/stable/user_install.html\n",
      "  from .autonotebook import tqdm as notebook_tqdm\n"
     ]
    }
   ],
   "source": [
    "model = StaticModel.from_pretrained(\"minishlab/m2v_multilingual_output\")"
   ]
  },
  {
   "cell_type": "code",
   "execution_count": 22,
   "metadata": {},
   "outputs": [],
   "source": [
    "embeddings = model.encode(df_data['description'])\n",
    "embeddings = pd.DataFrame(embeddings, columns=[f'emb_{i}' for i in range(embeddings.shape[1])])\n",
    "df_data_full = pd.concat([df_data, embeddings], axis=1)\n",
    "df_data_full.drop('description', inplace=True, axis=1)"
   ]
  },
  {
   "cell_type": "markdown",
   "metadata": {},
   "source": [
    "### Log Transform"
   ]
  },
  {
   "cell_type": "code",
   "execution_count": 23,
   "metadata": {},
   "outputs": [
    {
     "data": {
      "text/html": [
       "<div>\n",
       "<style scoped>\n",
       "    .dataframe tbody tr th:only-of-type {\n",
       "        vertical-align: middle;\n",
       "    }\n",
       "\n",
       "    .dataframe tbody tr th {\n",
       "        vertical-align: top;\n",
       "    }\n",
       "\n",
       "    .dataframe thead th {\n",
       "        text-align: right;\n",
       "    }\n",
       "</style>\n",
       "<table border=\"1\" class=\"dataframe\">\n",
       "  <thead>\n",
       "    <tr style=\"text-align: right;\">\n",
       "      <th></th>\n",
       "      <th>prezzo</th>\n",
       "      <th>m2</th>\n",
       "    </tr>\n",
       "  </thead>\n",
       "  <tbody>\n",
       "    <tr>\n",
       "      <th>count</th>\n",
       "      <td>16243.00</td>\n",
       "      <td>16243.00</td>\n",
       "    </tr>\n",
       "    <tr>\n",
       "      <th>mean</th>\n",
       "      <td>581011.73</td>\n",
       "      <td>185.09</td>\n",
       "    </tr>\n",
       "    <tr>\n",
       "      <th>std</th>\n",
       "      <td>10696636.95</td>\n",
       "      <td>1554.08</td>\n",
       "    </tr>\n",
       "    <tr>\n",
       "      <th>min</th>\n",
       "      <td>1.00</td>\n",
       "      <td>1.00</td>\n",
       "    </tr>\n",
       "    <tr>\n",
       "      <th>10%</th>\n",
       "      <td>114000.00</td>\n",
       "      <td>65.00</td>\n",
       "    </tr>\n",
       "    <tr>\n",
       "      <th>20%</th>\n",
       "      <td>155000.00</td>\n",
       "      <td>80.00</td>\n",
       "    </tr>\n",
       "    <tr>\n",
       "      <th>30%</th>\n",
       "      <td>195000.00</td>\n",
       "      <td>90.00</td>\n",
       "    </tr>\n",
       "    <tr>\n",
       "      <th>40%</th>\n",
       "      <td>238000.00</td>\n",
       "      <td>102.00</td>\n",
       "    </tr>\n",
       "    <tr>\n",
       "      <th>50%</th>\n",
       "      <td>280000.00</td>\n",
       "      <td>116.00</td>\n",
       "    </tr>\n",
       "    <tr>\n",
       "      <th>60%</th>\n",
       "      <td>338000.00</td>\n",
       "      <td>132.00</td>\n",
       "    </tr>\n",
       "    <tr>\n",
       "      <th>70%</th>\n",
       "      <td>418000.00</td>\n",
       "      <td>152.00</td>\n",
       "    </tr>\n",
       "    <tr>\n",
       "      <th>80%</th>\n",
       "      <td>550000.00</td>\n",
       "      <td>190.00</td>\n",
       "    </tr>\n",
       "    <tr>\n",
       "      <th>90%</th>\n",
       "      <td>850000.00</td>\n",
       "      <td>270.00</td>\n",
       "    </tr>\n",
       "    <tr>\n",
       "      <th>max</th>\n",
       "      <td>1350000000.00</td>\n",
       "      <td>170000.00</td>\n",
       "    </tr>\n",
       "  </tbody>\n",
       "</table>\n",
       "</div>"
      ],
      "text/plain": [
       "             prezzo        m2\n",
       "count      16243.00  16243.00\n",
       "mean      581011.73    185.09\n",
       "std     10696636.95   1554.08\n",
       "min            1.00      1.00\n",
       "10%       114000.00     65.00\n",
       "20%       155000.00     80.00\n",
       "30%       195000.00     90.00\n",
       "40%       238000.00    102.00\n",
       "50%       280000.00    116.00\n",
       "60%       338000.00    132.00\n",
       "70%       418000.00    152.00\n",
       "80%       550000.00    190.00\n",
       "90%       850000.00    270.00\n",
       "max   1350000000.00 170000.00"
      ]
     },
     "execution_count": 23,
     "metadata": {},
     "output_type": "execute_result"
    }
   ],
   "source": [
    "df_data_full[['prezzo', 'm2']].describe(percentiles=[i/10 for i in range(1,10)])"
   ]
  },
  {
   "cell_type": "code",
   "execution_count": 24,
   "metadata": {},
   "outputs": [
    {
     "name": "stdout",
     "output_type": "stream",
     "text": [
      "Keeping 40000<=Price<=2000000 and 40<=M2<=500 ---> 919 observations dropped\n"
     ]
    },
    {
     "data": {
      "text/html": [
       "<div>\n",
       "<style scoped>\n",
       "    .dataframe tbody tr th:only-of-type {\n",
       "        vertical-align: middle;\n",
       "    }\n",
       "\n",
       "    .dataframe tbody tr th {\n",
       "        vertical-align: top;\n",
       "    }\n",
       "\n",
       "    .dataframe thead th {\n",
       "        text-align: right;\n",
       "    }\n",
       "</style>\n",
       "<table border=\"1\" class=\"dataframe\">\n",
       "  <thead>\n",
       "    <tr style=\"text-align: right;\">\n",
       "      <th></th>\n",
       "      <th>prezzo</th>\n",
       "      <th>m2</th>\n",
       "    </tr>\n",
       "  </thead>\n",
       "  <tbody>\n",
       "    <tr>\n",
       "      <th>count</th>\n",
       "      <td>15324.00</td>\n",
       "      <td>15324.00</td>\n",
       "    </tr>\n",
       "    <tr>\n",
       "      <th>mean</th>\n",
       "      <td>368461.15</td>\n",
       "      <td>136.26</td>\n",
       "    </tr>\n",
       "    <tr>\n",
       "      <th>std</th>\n",
       "      <td>306743.22</td>\n",
       "      <td>77.46</td>\n",
       "    </tr>\n",
       "    <tr>\n",
       "      <th>min</th>\n",
       "      <td>40000.00</td>\n",
       "      <td>40.00</td>\n",
       "    </tr>\n",
       "    <tr>\n",
       "      <th>10%</th>\n",
       "      <td>115000.00</td>\n",
       "      <td>65.00</td>\n",
       "    </tr>\n",
       "    <tr>\n",
       "      <th>20%</th>\n",
       "      <td>155000.00</td>\n",
       "      <td>80.00</td>\n",
       "    </tr>\n",
       "    <tr>\n",
       "      <th>30%</th>\n",
       "      <td>190000.00</td>\n",
       "      <td>90.00</td>\n",
       "    </tr>\n",
       "    <tr>\n",
       "      <th>40%</th>\n",
       "      <td>235000.00</td>\n",
       "      <td>100.00</td>\n",
       "    </tr>\n",
       "    <tr>\n",
       "      <th>50%</th>\n",
       "      <td>275000.00</td>\n",
       "      <td>115.00</td>\n",
       "    </tr>\n",
       "    <tr>\n",
       "      <th>60%</th>\n",
       "      <td>329000.00</td>\n",
       "      <td>130.00</td>\n",
       "    </tr>\n",
       "    <tr>\n",
       "      <th>70%</th>\n",
       "      <td>395000.00</td>\n",
       "      <td>150.00</td>\n",
       "    </tr>\n",
       "    <tr>\n",
       "      <th>80%</th>\n",
       "      <td>500000.00</td>\n",
       "      <td>180.00</td>\n",
       "    </tr>\n",
       "    <tr>\n",
       "      <th>90%</th>\n",
       "      <td>740000.00</td>\n",
       "      <td>240.00</td>\n",
       "    </tr>\n",
       "    <tr>\n",
       "      <th>max</th>\n",
       "      <td>2000000.00</td>\n",
       "      <td>500.00</td>\n",
       "    </tr>\n",
       "  </tbody>\n",
       "</table>\n",
       "</div>"
      ],
      "text/plain": [
       "          prezzo       m2\n",
       "count   15324.00 15324.00\n",
       "mean   368461.15   136.26\n",
       "std    306743.22    77.46\n",
       "min     40000.00    40.00\n",
       "10%    115000.00    65.00\n",
       "20%    155000.00    80.00\n",
       "30%    190000.00    90.00\n",
       "40%    235000.00   100.00\n",
       "50%    275000.00   115.00\n",
       "60%    329000.00   130.00\n",
       "70%    395000.00   150.00\n",
       "80%    500000.00   180.00\n",
       "90%    740000.00   240.00\n",
       "max   2000000.00   500.00"
      ]
     },
     "execution_count": 24,
     "metadata": {},
     "output_type": "execute_result"
    }
   ],
   "source": [
    "min_price = 40000\n",
    "min_m2 = 40\n",
    "max_price = 2000000\n",
    "max_m2 = 500\n",
    "n_obs_orig = df_data_full.shape[0]\n",
    "df_data_full_clean = df_data_full[(df_data_full['prezzo'].between(min_price, max_price, inclusive='both'))&(df_data_full['m2'].between(min_m2, max_m2, inclusive='both'))].reset_index(drop=True)\n",
    "n_obs_new = df_data_full_clean.shape[0]\n",
    "print(f'Keeping {min_price}<=Price<={max_price} and {min_m2}<=M2<={max_m2}', f'---> {n_obs_orig-n_obs_new} observations dropped')\n",
    "df_data_full_clean[['prezzo', 'm2']].describe(percentiles=[i/10 for i in range(1,10)])"
   ]
  },
  {
   "cell_type": "code",
   "execution_count": 25,
   "metadata": {},
   "outputs": [
    {
     "data": {
      "image/png": "[encoded data removed]",
      "text/plain": [
       "<Figure size 2000x1000 with 4 Axes>"
      ]
     },
     "metadata": {},
     "output_type": "display_data"
    }
   ],
   "source": [
    "fig, axs = plt.subplots(ncols=2, nrows=2, figsize=(20,10))\n",
    "ax=axs.ravel()\n",
    "ax[0].hist(df_data_full_clean['prezzo'], bins=100, color='blue', density=True)\n",
    "ax[0].set_title('Distribuzione Prezzo')\n",
    "ax[1].hist(np.log(df_data_full_clean['prezzo']), bins=100, color='orange', density=True)\n",
    "ax[1].set_title('Distribuzione Log Prezzo')\n",
    "ax[2].hist(df_data_full_clean['m2'], bins=100, color='blue', density=True)\n",
    "ax[2].set_title('Distribuzione M2')\n",
    "ax[3].hist(np.log(df_data_full_clean['m2']), bins=100, color='orange', density=True)\n",
    "ax[3].set_title('Distribuzione Log M2')\n",
    "plt.tight_layout()\n",
    "plt.show()"
   ]
  },
  {
   "cell_type": "code",
   "execution_count": 26,
   "metadata": {},
   "outputs": [],
   "source": [
    "df_data_full_clean['log_prezzo']=np.log(df_data_full_clean['prezzo'])\n",
    "df_data_full_clean['log_m2']=np.log(df_data_full_clean['m2'])"
   ]
  },
  {
   "cell_type": "markdown",
   "metadata": {},
   "source": [
    "### Save"
   ]
  },
  {
   "cell_type": "code",
   "execution_count": 27,
   "metadata": {},
   "outputs": [],
   "source": [
    "df_data_full_clean.to_csv('../data/sale_data/2_sale_enriched.csv', index=False)"
   ]
  }
 ],
 "metadata": {
  "kernelspec": {
   "display_name": "house_env",
   "language": "python",
   "name": "python3"
  },
  "language_info": {
   "codemirror_mode": {
    "name": "ipython",
    "version": 3
   },
   "file_extension": ".py",
   "mimetype": "text/x-python",
   "name": "python",
   "nbconvert_exporter": "python",
   "pygments_lexer": "ipython3",
   "version": "3.11.9"
  }
 },
 "nbformat": 4,
 "nbformat_minor": 2
}
