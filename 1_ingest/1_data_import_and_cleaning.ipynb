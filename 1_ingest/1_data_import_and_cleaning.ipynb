{
 "cells": [
  {
   "cell_type": "code",
   "execution_count": 1,
   "metadata": {},
   "outputs": [],
   "source": [
    "import pandas as pd\n",
    "from collections import Counter \n",
    "import re\n",
    "pd.set_option('display.max_columns', None)"
   ]
  },
  {
   "cell_type": "code",
   "execution_count": 2,
   "metadata": {},
   "outputs": [
    {
     "name": "stderr",
     "output_type": "stream",
     "text": [
      "C:\\Users\\faceru\\AppData\\Local\\Temp\\ipykernel_15688\\2330430630.py:1: DtypeWarning: Columns (23,24,25,26,27,29,30,31,32,33,34) have mixed types. Specify dtype option on import or set low_memory=False.\n",
      "  raw_data = pd.read_csv('../data/sale_data/0_sale_raw.csv')\n"
     ]
    },
    {
     "name": "stdout",
     "output_type": "stream",
     "text": [
      "Data Shape: (28519, 37)\n"
     ]
    },
    {
     "data": {
      "text/html": [
       "<div>\n",
       "<style scoped>\n",
       "    .dataframe tbody tr th:only-of-type {\n",
       "        vertical-align: middle;\n",
       "    }\n",
       "\n",
       "    .dataframe tbody tr th {\n",
       "        vertical-align: top;\n",
       "    }\n",
       "\n",
       "    .dataframe thead th {\n",
       "        text-align: right;\n",
       "    }\n",
       "</style>\n",
       "<table border=\"1\" class=\"dataframe\">\n",
       "  <thead>\n",
       "    <tr style=\"text-align: right;\">\n",
       "      <th></th>\n",
       "      <th>prezzo</th>\n",
       "      <th>stanze</th>\n",
       "      <th>m2</th>\n",
       "      <th>bagni</th>\n",
       "      <th>piano</th>\n",
       "      <th>description</th>\n",
       "      <th>Riferimento e Data annuncio</th>\n",
       "      <th>contratto</th>\n",
       "      <th>tipologia</th>\n",
       "      <th>superficie</th>\n",
       "      <th>locali</th>\n",
       "      <th>totale piani edificio</th>\n",
       "      <th>disponibilità</th>\n",
       "      <th>other_characteristics</th>\n",
       "      <th>citta</th>\n",
       "      <th>quartiere</th>\n",
       "      <th>href</th>\n",
       "      <th>regione</th>\n",
       "      <th>Posti Auto</th>\n",
       "      <th>via</th>\n",
       "      <th>unità</th>\n",
       "      <th>Data di inizio lavori e di consegna prevista</th>\n",
       "      <th>Uso edificio attuale</th>\n",
       "      <th>altre caratteristiche</th>\n",
       "      <th>spese condominio</th>\n",
       "      <th>cauzione</th>\n",
       "      <th>stato</th>\n",
       "      <th>Efficienza energetica</th>\n",
       "      <th>anno di costruzione</th>\n",
       "      <th>riscaldamento</th>\n",
       "      <th>Climatizzatore</th>\n",
       "      <th>certificazione energetica</th>\n",
       "      <th>Indice prest. energetica rinnovabile</th>\n",
       "      <th>Prestazione energetica del fabbricato</th>\n",
       "      <th>spese aggiuntive</th>\n",
       "      <th>Dati catastali</th>\n",
       "      <th>Altri dati catastali</th>\n",
       "    </tr>\n",
       "  </thead>\n",
       "  <tbody>\n",
       "    <tr>\n",
       "      <th>0</th>\n",
       "      <td>€ 78.000</td>\n",
       "      <td>3</td>\n",
       "      <td>67m²</td>\n",
       "      <td>1</td>\n",
       "      <td>Piano terra, con accesso disabili</td>\n",
       "      <td>Vendesi a Valledoria in Via Alessandro Volta, ...</td>\n",
       "      <td>Daniela - 17/12/2022</td>\n",
       "      <td>Vendita</td>\n",
       "      <td>Appartamento | Intera proprietà | Classe immob...</td>\n",
       "      <td>67 m² - Vedi dettaglio</td>\n",
       "      <td>3 (2 camere da letto, 1 altro), 1 bagno, cucin...</td>\n",
       "      <td>2 piani</td>\n",
       "      <td>Libero</td>\n",
       "      <td>['Cancello elettrico', 'Porta blindata', 'Terr...</td>\n",
       "      <td>Valledoria</td>\n",
       "      <td>Via Alessandro Volta</td>\n",
       "      <td>https://www.immobiliare.it/annunci/99772666/</td>\n",
       "      <td>sardegna</td>\n",
       "      <td>NaN</td>\n",
       "      <td>NaN</td>\n",
       "      <td>NaN</td>\n",
       "      <td>NaN</td>\n",
       "      <td>NaN</td>\n",
       "      <td>NaN</td>\n",
       "      <td>NaN</td>\n",
       "      <td>NaN</td>\n",
       "      <td>NaN</td>\n",
       "      <td>NaN</td>\n",
       "      <td>NaN</td>\n",
       "      <td>NaN</td>\n",
       "      <td>NaN</td>\n",
       "      <td>NaN</td>\n",
       "      <td>NaN</td>\n",
       "      <td>NaN</td>\n",
       "      <td>NaN</td>\n",
       "      <td>NaN</td>\n",
       "      <td>NaN</td>\n",
       "    </tr>\n",
       "    <tr>\n",
       "      <th>1</th>\n",
       "      <td>€ 460.000</td>\n",
       "      <td>3</td>\n",
       "      <td>75m²</td>\n",
       "      <td>2</td>\n",
       "      <td>1°</td>\n",
       "      <td>Nell’esclusivo comprensorio di Punta Aldìa in ...</td>\n",
       "      <td>698 - 31/03/2023</td>\n",
       "      <td>Vendita</td>\n",
       "      <td>Appartamento | Intera proprietà | Classe immob...</td>\n",
       "      <td>75 m² - Vedi dettaglio</td>\n",
       "      <td>3 (2 camere da letto, 1 altro), 2 bagni, cucin...</td>\n",
       "      <td>1 piano</td>\n",
       "      <td>Libero</td>\n",
       "      <td>['Esposizione esterna', 'Balcone', 'Terrazza',...</td>\n",
       "      <td>San Teodoro</td>\n",
       "      <td>NaN</td>\n",
       "      <td>https://www.immobiliare.it/annunci/98803972/</td>\n",
       "      <td>sardegna</td>\n",
       "      <td>1 in parcheggio/garage comune</td>\n",
       "      <td>NaN</td>\n",
       "      <td>NaN</td>\n",
       "      <td>NaN</td>\n",
       "      <td>NaN</td>\n",
       "      <td>NaN</td>\n",
       "      <td>NaN</td>\n",
       "      <td>NaN</td>\n",
       "      <td>NaN</td>\n",
       "      <td>NaN</td>\n",
       "      <td>NaN</td>\n",
       "      <td>NaN</td>\n",
       "      <td>NaN</td>\n",
       "      <td>NaN</td>\n",
       "      <td>NaN</td>\n",
       "      <td>NaN</td>\n",
       "      <td>NaN</td>\n",
       "      <td>NaN</td>\n",
       "      <td>NaN</td>\n",
       "    </tr>\n",
       "  </tbody>\n",
       "</table>\n",
       "</div>"
      ],
      "text/plain": [
       "      prezzo stanze    m2 bagni                              piano  \\\n",
       "0   € 78.000      3  67m²     1  Piano terra, con accesso disabili   \n",
       "1  € 460.000      3  75m²     2                                 1°   \n",
       "\n",
       "                                         description  \\\n",
       "0  Vendesi a Valledoria in Via Alessandro Volta, ...   \n",
       "1  Nell’esclusivo comprensorio di Punta Aldìa in ...   \n",
       "\n",
       "  Riferimento e Data annuncio contratto  \\\n",
       "0        Daniela - 17/12/2022   Vendita   \n",
       "1            698 - 31/03/2023   Vendita   \n",
       "\n",
       "                                           tipologia              superficie  \\\n",
       "0  Appartamento | Intera proprietà | Classe immob...  67 m² - Vedi dettaglio   \n",
       "1  Appartamento | Intera proprietà | Classe immob...  75 m² - Vedi dettaglio   \n",
       "\n",
       "                                              locali totale piani edificio  \\\n",
       "0  3 (2 camere da letto, 1 altro), 1 bagno, cucin...               2 piani   \n",
       "1  3 (2 camere da letto, 1 altro), 2 bagni, cucin...               1 piano   \n",
       "\n",
       "  disponibilità                              other_characteristics  \\\n",
       "0        Libero  ['Cancello elettrico', 'Porta blindata', 'Terr...   \n",
       "1        Libero  ['Esposizione esterna', 'Balcone', 'Terrazza',...   \n",
       "\n",
       "         citta             quartiere  \\\n",
       "0   Valledoria  Via Alessandro Volta   \n",
       "1  San Teodoro                   NaN   \n",
       "\n",
       "                                           href   regione  \\\n",
       "0  https://www.immobiliare.it/annunci/99772666/  sardegna   \n",
       "1  https://www.immobiliare.it/annunci/98803972/  sardegna   \n",
       "\n",
       "                      Posti Auto  via unità  \\\n",
       "0                            NaN  NaN   NaN   \n",
       "1  1 in parcheggio/garage comune  NaN   NaN   \n",
       "\n",
       "  Data di inizio lavori e di consegna prevista Uso edificio attuale  \\\n",
       "0                                          NaN                  NaN   \n",
       "1                                          NaN                  NaN   \n",
       "\n",
       "  altre caratteristiche spese condominio cauzione stato Efficienza energetica  \\\n",
       "0                   NaN              NaN      NaN   NaN                   NaN   \n",
       "1                   NaN              NaN      NaN   NaN                   NaN   \n",
       "\n",
       "   anno di costruzione riscaldamento Climatizzatore certificazione energetica  \\\n",
       "0                  NaN           NaN            NaN                       NaN   \n",
       "1                  NaN           NaN            NaN                       NaN   \n",
       "\n",
       "  Indice prest. energetica rinnovabile Prestazione energetica del fabbricato  \\\n",
       "0                                  NaN                                   NaN   \n",
       "1                                  NaN                                   NaN   \n",
       "\n",
       "  spese aggiuntive Dati catastali Altri dati catastali  \n",
       "0              NaN            NaN                  NaN  \n",
       "1              NaN            NaN                  NaN  "
      ]
     },
     "execution_count": 2,
     "metadata": {},
     "output_type": "execute_result"
    }
   ],
   "source": [
    "raw_data = pd.read_csv('../data/sale_data/0_sale_raw.csv')\n",
    "idxs = [i for i in raw_data.index if 'vendita' in raw_data.loc[i, 'contratto'].lower()]\n",
    "raw_data = raw_data.iloc[idxs,:].reset_index(drop=True)\n",
    "print('Data Shape:', raw_data.shape)\n",
    "raw_data.head(2)"
   ]
  },
  {
   "cell_type": "code",
   "execution_count": 3,
   "metadata": {},
   "outputs": [
    {
     "data": {
      "text/html": [
       "<div>\n",
       "<style scoped>\n",
       "    .dataframe tbody tr th:only-of-type {\n",
       "        vertical-align: middle;\n",
       "    }\n",
       "\n",
       "    .dataframe tbody tr th {\n",
       "        vertical-align: top;\n",
       "    }\n",
       "\n",
       "    .dataframe thead th {\n",
       "        text-align: right;\n",
       "    }\n",
       "</style>\n",
       "<table border=\"1\" class=\"dataframe\">\n",
       "  <thead>\n",
       "    <tr style=\"text-align: right;\">\n",
       "      <th></th>\n",
       "      <th>Missings</th>\n",
       "    </tr>\n",
       "  </thead>\n",
       "  <tbody>\n",
       "    <tr>\n",
       "      <th>spese aggiuntive</th>\n",
       "      <td>100.00</td>\n",
       "    </tr>\n",
       "    <tr>\n",
       "      <th>Prestazione energetica del fabbricato</th>\n",
       "      <td>100.00</td>\n",
       "    </tr>\n",
       "    <tr>\n",
       "      <th>Indice prest. energetica rinnovabile</th>\n",
       "      <td>100.00</td>\n",
       "    </tr>\n",
       "    <tr>\n",
       "      <th>riscaldamento</th>\n",
       "      <td>100.00</td>\n",
       "    </tr>\n",
       "    <tr>\n",
       "      <th>Efficienza energetica</th>\n",
       "      <td>100.00</td>\n",
       "    </tr>\n",
       "    <tr>\n",
       "      <th>certificazione energetica</th>\n",
       "      <td>99.99</td>\n",
       "    </tr>\n",
       "    <tr>\n",
       "      <th>Climatizzatore</th>\n",
       "      <td>99.99</td>\n",
       "    </tr>\n",
       "    <tr>\n",
       "      <th>spese condominio</th>\n",
       "      <td>99.99</td>\n",
       "    </tr>\n",
       "    <tr>\n",
       "      <th>anno di costruzione</th>\n",
       "      <td>99.98</td>\n",
       "    </tr>\n",
       "    <tr>\n",
       "      <th>cauzione</th>\n",
       "      <td>99.98</td>\n",
       "    </tr>\n",
       "    <tr>\n",
       "      <th>altre caratteristiche</th>\n",
       "      <td>99.98</td>\n",
       "    </tr>\n",
       "    <tr>\n",
       "      <th>stato</th>\n",
       "      <td>99.98</td>\n",
       "    </tr>\n",
       "    <tr>\n",
       "      <th>Altri dati catastali</th>\n",
       "      <td>99.73</td>\n",
       "    </tr>\n",
       "    <tr>\n",
       "      <th>Dati catastali</th>\n",
       "      <td>99.44</td>\n",
       "    </tr>\n",
       "    <tr>\n",
       "      <th>Uso edificio attuale</th>\n",
       "      <td>99.29</td>\n",
       "    </tr>\n",
       "    <tr>\n",
       "      <th>unità</th>\n",
       "      <td>96.45</td>\n",
       "    </tr>\n",
       "    <tr>\n",
       "      <th>Data di inizio lavori e di consegna prevista</th>\n",
       "      <td>96.33</td>\n",
       "    </tr>\n",
       "    <tr>\n",
       "      <th>via</th>\n",
       "      <td>48.72</td>\n",
       "    </tr>\n",
       "    <tr>\n",
       "      <th>Posti Auto</th>\n",
       "      <td>42.01</td>\n",
       "    </tr>\n",
       "    <tr>\n",
       "      <th>disponibilità</th>\n",
       "      <td>17.91</td>\n",
       "    </tr>\n",
       "    <tr>\n",
       "      <th>quartiere</th>\n",
       "      <td>4.86</td>\n",
       "    </tr>\n",
       "    <tr>\n",
       "      <th>totale piani edificio</th>\n",
       "      <td>4.61</td>\n",
       "    </tr>\n",
       "    <tr>\n",
       "      <th>locali</th>\n",
       "      <td>4.07</td>\n",
       "    </tr>\n",
       "    <tr>\n",
       "      <th>superficie</th>\n",
       "      <td>3.84</td>\n",
       "    </tr>\n",
       "    <tr>\n",
       "      <th>piano</th>\n",
       "      <td>1.73</td>\n",
       "    </tr>\n",
       "    <tr>\n",
       "      <th>bagni</th>\n",
       "      <td>1.18</td>\n",
       "    </tr>\n",
       "    <tr>\n",
       "      <th>m2</th>\n",
       "      <td>0.27</td>\n",
       "    </tr>\n",
       "    <tr>\n",
       "      <th>other_characteristics</th>\n",
       "      <td>0.02</td>\n",
       "    </tr>\n",
       "    <tr>\n",
       "      <th>citta</th>\n",
       "      <td>0.02</td>\n",
       "    </tr>\n",
       "    <tr>\n",
       "      <th>stanze</th>\n",
       "      <td>0.01</td>\n",
       "    </tr>\n",
       "    <tr>\n",
       "      <th>contratto</th>\n",
       "      <td>0.00</td>\n",
       "    </tr>\n",
       "    <tr>\n",
       "      <th>Riferimento e Data annuncio</th>\n",
       "      <td>0.00</td>\n",
       "    </tr>\n",
       "    <tr>\n",
       "      <th>description</th>\n",
       "      <td>0.00</td>\n",
       "    </tr>\n",
       "    <tr>\n",
       "      <th>tipologia</th>\n",
       "      <td>0.00</td>\n",
       "    </tr>\n",
       "    <tr>\n",
       "      <th>regione</th>\n",
       "      <td>0.00</td>\n",
       "    </tr>\n",
       "    <tr>\n",
       "      <th>href</th>\n",
       "      <td>0.00</td>\n",
       "    </tr>\n",
       "    <tr>\n",
       "      <th>prezzo</th>\n",
       "      <td>0.00</td>\n",
       "    </tr>\n",
       "  </tbody>\n",
       "</table>\n",
       "</div>"
      ],
      "text/plain": [
       "                                              Missings\n",
       "spese aggiuntive                                100.00\n",
       "Prestazione energetica del fabbricato           100.00\n",
       "Indice prest. energetica rinnovabile            100.00\n",
       "riscaldamento                                   100.00\n",
       "Efficienza energetica                           100.00\n",
       "certificazione energetica                        99.99\n",
       "Climatizzatore                                   99.99\n",
       "spese condominio                                 99.99\n",
       "anno di costruzione                              99.98\n",
       "cauzione                                         99.98\n",
       "altre caratteristiche                            99.98\n",
       "stato                                            99.98\n",
       "Altri dati catastali                             99.73\n",
       "Dati catastali                                   99.44\n",
       "Uso edificio attuale                             99.29\n",
       "unità                                            96.45\n",
       "Data di inizio lavori e di consegna prevista     96.33\n",
       "via                                              48.72\n",
       "Posti Auto                                       42.01\n",
       "disponibilità                                    17.91\n",
       "quartiere                                         4.86\n",
       "totale piani edificio                             4.61\n",
       "locali                                            4.07\n",
       "superficie                                        3.84\n",
       "piano                                             1.73\n",
       "bagni                                             1.18\n",
       "m2                                                0.27\n",
       "other_characteristics                             0.02\n",
       "citta                                             0.02\n",
       "stanze                                            0.01\n",
       "contratto                                         0.00\n",
       "Riferimento e Data annuncio                       0.00\n",
       "description                                       0.00\n",
       "tipologia                                         0.00\n",
       "regione                                           0.00\n",
       "href                                              0.00\n",
       "prezzo                                            0.00"
      ]
     },
     "execution_count": 3,
     "metadata": {},
     "output_type": "execute_result"
    }
   ],
   "source": [
    "(100*raw_data.isna().sum()/raw_data.shape[0]).to_frame().rename({0:'Missings'}, axis=1).sort_values('Missings', ascending=False).round(2)"
   ]
  },
  {
   "cell_type": "markdown",
   "metadata": {},
   "source": [
    "Dropping the following features:\n",
    "* altre caratteristiche: lists houses characteristics already captured and with less missings by other_characteristics\n",
    "* cauzione: too many missings and not enough info\n",
    "* Climatizzatore\n",
    "* certificazione energetica\n",
    "* Data di inizio lavori e di consegna prevista\t\n",
    "* unità\n",
    "* Prestazione energetica del fabbricato\t\n",
    "* Uso edificio attuale\t\n",
    "* Indice prest. energetica rinnovabile\n",
    "* Dati catastali\n",
    "* Altri dati catastali\t\n",
    "* spese aggiuntive\n",
    "* spese condominio\n",
    "* anno di costruzione\n",
    "* riscaldamento\n",
    "* Efficienza energetica\n",
    "* stato\n",
    "\n",
    "Features that need processings:\n",
    "* other_characteristics\n",
    "* posti auto\n",
    "* tipologia\n",
    "* via"
   ]
  },
  {
   "cell_type": "code",
   "execution_count": 4,
   "metadata": {},
   "outputs": [
    {
     "name": "stdout",
     "output_type": "stream",
     "text": [
      "Original N Columns 37\n",
      "Cleaned N Columns 18\n"
     ]
    }
   ],
   "source": [
    "print('Original N Columns', raw_data.shape[1])\n",
    "features_to_drop = ['altre caratteristiche', 'cauzione', 'Climatizzatore', 'certificazione energetica', \n",
    "                    'Data di inizio lavori e di consegna prevista', 'unità', 'Prestazione energetica del fabbricato', \n",
    "                    'Uso edificio attuale', 'Indice prest. energetica rinnovabile', 'Dati catastali', 'Altri dati catastali', \n",
    "                    'spese aggiuntive', 'spese condominio', 'anno di costruzione', 'riscaldamento', 'Efficienza energetica', 'stato', \n",
    "                    'contratto', 'superficie']\n",
    "\n",
    "raw_data = raw_data[list(set(raw_data.columns).difference(set(features_to_drop)))]\n",
    "print('Cleaned N Columns', raw_data.shape[1])"
   ]
  },
  {
   "cell_type": "markdown",
   "metadata": {},
   "source": [
    "### Clean Price and M2"
   ]
  },
  {
   "cell_type": "code",
   "execution_count": 5,
   "metadata": {},
   "outputs": [
    {
     "name": "stdout",
     "output_type": "stream",
     "text": [
      "Observations prior to Price and M2 cleaning 28519\n"
     ]
    }
   ],
   "source": [
    "print('Observations prior to Price and M2 cleaning', raw_data.shape[0])\n",
    "raw_data = raw_data[(raw_data['prezzo'].str.lower()!='prezzo su richiesta') & (~raw_data['prezzo'].str.contains('-'))].reset_index(drop=True)\n",
    "raw_data['prezzo']=raw_data['prezzo'].str.replace('€ ', '').str.replace('.','').str.replace('da','').str.strip().str.replace(',','').astype(float)"
   ]
  },
  {
   "cell_type": "code",
   "execution_count": 6,
   "metadata": {},
   "outputs": [
    {
     "name": "stdout",
     "output_type": "stream",
     "text": [
      "Observations after Price and M2 cleaning 17721\n"
     ]
    }
   ],
   "source": [
    "raw_data = raw_data[raw_data['m2'].notna()]\n",
    "raw_data = raw_data[raw_data['m2']!='3+']\n",
    "raw_data = raw_data[(~raw_data['m2'].str.contains('/')) & (~raw_data['m2'].str.contains('T'))].reset_index(drop=True)\n",
    "raw_data['m2']=raw_data['m2'].str.replace('m²', '').str.replace('.','').str.replace('da','').astype(int)\n",
    "raw_data.drop_duplicates(inplace=True, ignore_index=True)\n",
    "print('Observations after Price and M2 cleaning', raw_data.shape[0])"
   ]
  },
  {
   "cell_type": "markdown",
   "metadata": {},
   "source": [
    "### Check Regione"
   ]
  },
  {
   "cell_type": "code",
   "execution_count": 7,
   "metadata": {},
   "outputs": [
    {
     "data": {
      "text/plain": [
       "regione\n",
       "lombardia                2475\n",
       "toscana                  2410\n",
       "piemonte                 2377\n",
       "emilia-romagna           2348\n",
       "veneto                   2238\n",
       "lazio                    1817\n",
       "sicilia                  1779\n",
       "campania                 1766\n",
       "sardegna                   73\n",
       "valle-d-aosta              48\n",
       "basilicata                 46\n",
       "liguria                    46\n",
       "trentino-alto-adige        42\n",
       "puglia                     40\n",
       "abruzzo                    40\n",
       "molise                     39\n",
       "marche                     39\n",
       "calabria                   36\n",
       "friuli-venezia-giulia      22\n",
       "umbria                     20\n",
       "emilia-Romagna             20\n",
       "Name: count, dtype: int64"
      ]
     },
     "execution_count": 7,
     "metadata": {},
     "output_type": "execute_result"
    }
   ],
   "source": [
    "raw_data['regione'].value_counts()"
   ]
  },
  {
   "cell_type": "markdown",
   "metadata": {},
   "source": [
    "### Clean Data"
   ]
  },
  {
   "cell_type": "code",
   "execution_count": 8,
   "metadata": {},
   "outputs": [],
   "source": [
    "raw_data['date'] = [i[i.rfind('-')+1:].strip() for i in raw_data['Riferimento e Data annuncio']]\n",
    "raw_data['date'] =  pd.to_datetime(raw_data['date'], dayfirst=True)\n",
    "raw_data['delta_pubblicazione'] = (raw_data['date'].max() - raw_data['date']).dt.days"
   ]
  },
  {
   "cell_type": "markdown",
   "metadata": {},
   "source": [
    "### Clean Stanze"
   ]
  },
  {
   "cell_type": "code",
   "execution_count": 9,
   "metadata": {},
   "outputs": [
    {
     "name": "stdout",
     "output_type": "stream",
     "text": [
      "Observations prior to Stanze cleaning 17721\n",
      "Observations after Stanze cleaning 17689\n"
     ]
    }
   ],
   "source": [
    "print('Observations prior to Stanze cleaning', raw_data.shape[0])\n",
    "raw_data = raw_data[raw_data['stanze'].isin(['1', '2', '3', '4', '5', '5+'])]\n",
    "raw_data.loc[raw_data['stanze']=='1', 'stanze']='monolocale'\n",
    "raw_data.loc[raw_data['stanze']=='2', 'stanze']='bilocale'\n",
    "raw_data.loc[raw_data['stanze']=='3', 'stanze']='trilocale'\n",
    "raw_data.loc[raw_data['stanze']=='4', 'stanze']='quadrilocale'\n",
    "raw_data.loc[raw_data['stanze']=='5', 'stanze']='pentalocale'\n",
    "raw_data.loc[raw_data['stanze']=='5+', 'stanze']='oltre pentalocale'\n",
    "print('Observations after Stanze cleaning', raw_data.shape[0])"
   ]
  },
  {
   "cell_type": "markdown",
   "metadata": {},
   "source": [
    "### Clean Citta"
   ]
  },
  {
   "cell_type": "code",
   "execution_count": 10,
   "metadata": {},
   "outputs": [],
   "source": [
    "raw_data.loc[raw_data['citta'].isna(), 'citta']='missing'"
   ]
  },
  {
   "cell_type": "markdown",
   "metadata": {},
   "source": [
    "### Clean bagni"
   ]
  },
  {
   "cell_type": "code",
   "execution_count": 11,
   "metadata": {},
   "outputs": [
    {
     "name": "stdout",
     "output_type": "stream",
     "text": [
      "Observations prior to bagni cleaning 17689\n",
      "Observations prior to bagni cleaning 17529\n"
     ]
    }
   ],
   "source": [
    "print('Observations prior to bagni cleaning', raw_data.shape[0])\n",
    "raw_data = raw_data[raw_data['bagni'].isin(['1','2','3','3+'])].reset_index(drop=True)\n",
    "print('Observations prior to bagni cleaning', raw_data.shape[0])"
   ]
  },
  {
   "cell_type": "markdown",
   "metadata": {},
   "source": [
    "### Clean piani"
   ]
  },
  {
   "cell_type": "code",
   "execution_count": 12,
   "metadata": {},
   "outputs": [],
   "source": [
    "def extract_floor_numb(column):\n",
    "    if type(column)!=str:\n",
    "        return -1\n",
    "    floor = re.findall(r'[0-9]+', column)\n",
    "    return floor[0] if len(floor)>0 else -1\n",
    "\n",
    "raw_data['totale_piani'] = raw_data['totale piani edificio'].map(extract_floor_numb)"
   ]
  },
  {
   "cell_type": "code",
   "execution_count": 13,
   "metadata": {},
   "outputs": [],
   "source": [
    "def extract_piano(str):\n",
    "    if 'piani' in str.lower():\n",
    "        return int(str[:2].strip())\n",
    "    elif 'terra' in str.lower() or 'rialzato' in str.lower() or 'ammezzato' in str.lower():\n",
    "        return 0\n",
    "    elif  'su più livelli' in str.lower():\n",
    "        return 2\n",
    "    elif str.lower()=='missing':\n",
    "        return -1\n",
    "    elif 'ultimo' in str.lower():\n",
    "        return 5\n",
    "    else:\n",
    "        return int(str[0])\n",
    "    "
   ]
  },
  {
   "cell_type": "code",
   "execution_count": 14,
   "metadata": {},
   "outputs": [
    {
     "name": "stdout",
     "output_type": "stream",
     "text": [
      "Observations prior to piano cleaning 17529\n",
      "Observations prior to piano cleaning 17506\n"
     ]
    }
   ],
   "source": [
    "print('Observations prior to piano cleaning', raw_data.shape[0])\n",
    "raw_data.loc[raw_data['piano'].isna(), 'piano']='missing'\n",
    "raw_data['ascensore']=raw_data['piano'].str.contains('con ascensore').astype(int)\n",
    "raw_data = raw_data[~raw_data['piano'].str.contains('€')]\n",
    "raw_data['piano']=raw_data['piano'].apply(extract_piano)\n",
    "print('Observations prior to piano cleaning', raw_data.shape[0])"
   ]
  },
  {
   "cell_type": "markdown",
   "metadata": {},
   "source": [
    "### Clean Locali"
   ]
  },
  {
   "cell_type": "code",
   "execution_count": 15,
   "metadata": {},
   "outputs": [
    {
     "data": {
      "text/plain": [
       "cucina\n",
       "cucina abitabile         10133\n",
       "cucina angolo cottura     2529\n",
       "cucina a vista            2428\n",
       "cucina cucinotto           988\n",
       "cucina semi abitabile      816\n",
       "no info                    612\n",
       "Name: count, dtype: int64"
      ]
     },
     "execution_count": 15,
     "metadata": {},
     "output_type": "execute_result"
    }
   ],
   "source": [
    "raw_data['cucina'] = [i[i.find('cucina'):] for i in raw_data['locali']]\n",
    "raw_data.loc[raw_data['cucina'].str.len()==1, 'cucina']='no info'\n",
    "raw_data.loc[raw_data['cucina'].str.contains(','), 'cucina']=raw_data['cucina'].str[:-17]\n",
    "raw_data['cucina'].value_counts()"
   ]
  },
  {
   "cell_type": "code",
   "execution_count": 16,
   "metadata": {},
   "outputs": [],
   "source": [
    "def extract_camer(s):\n",
    "    if 'camer' not in s:\n",
    "        return 0\n",
    "    camera = s[:s.find('camer')].strip()\n",
    "    if '+' in camera and '(' in camera:\n",
    "        camera = camera[4:]\n",
    "    elif '(' in camera:\n",
    "        camera = camera[3:]\n",
    "    return camera"
   ]
  },
  {
   "cell_type": "code",
   "execution_count": 17,
   "metadata": {},
   "outputs": [
    {
     "data": {
      "text/plain": [
       "camere\n",
       "2      6836\n",
       "3      5137\n",
       "1      2592\n",
       "4      1522\n",
       "5       484\n",
       "0       441\n",
       "6       233\n",
       "7        93\n",
       "8        60\n",
       "10       35\n",
       "9        24\n",
       "12       12\n",
       "11        9\n",
       "14        6\n",
       "15        5\n",
       "20        4\n",
       "30        3\n",
       "16        2\n",
       "13        1\n",
       "175       1\n",
       "18        1\n",
       "48        1\n",
       "99        1\n",
       "26        1\n",
       "32        1\n",
       "17        1\n",
       "Name: count, dtype: int64"
      ]
     },
     "execution_count": 17,
     "metadata": {},
     "output_type": "execute_result"
    }
   ],
   "source": [
    "raw_data['camere'] = raw_data['locali'].apply(extract_camer)\n",
    "raw_data['camere'].value_counts()"
   ]
  },
  {
   "cell_type": "markdown",
   "metadata": {},
   "source": [
    "### Clean quartiere"
   ]
  },
  {
   "cell_type": "code",
   "execution_count": 18,
   "metadata": {},
   "outputs": [],
   "source": [
    "raw_data.loc[raw_data['quartiere'].isna(), 'quartiere']='missing'"
   ]
  },
  {
   "cell_type": "markdown",
   "metadata": {},
   "source": [
    "### Clean disponibilità"
   ]
  },
  {
   "cell_type": "code",
   "execution_count": 19,
   "metadata": {},
   "outputs": [
    {
     "data": {
      "text/plain": [
       "disponibilità\n",
       "Libero     14583\n",
       "missing     2458\n",
       "Futuro       465\n",
       "Name: count, dtype: int64"
      ]
     },
     "execution_count": 19,
     "metadata": {},
     "output_type": "execute_result"
    }
   ],
   "source": [
    "raw_data.loc[raw_data['disponibilità'].isna(), 'disponibilità'] = 'missing'\n",
    "raw_data.loc[raw_data['disponibilità'].str.contains('dal'), 'disponibilità'] = 'Futuro'\n",
    "raw_data['disponibilità'].value_counts()"
   ]
  },
  {
   "cell_type": "markdown",
   "metadata": {},
   "source": [
    "### Clean tipologia"
   ]
  },
  {
   "cell_type": "code",
   "execution_count": 20,
   "metadata": {},
   "outputs": [
    {
     "data": {
      "text/plain": [
       "number_seps_tipologia\n",
       "2    15356\n",
       "1     1750\n",
       "0      400\n",
       "Name: count, dtype: int64"
      ]
     },
     "execution_count": 20,
     "metadata": {},
     "output_type": "execute_result"
    }
   ],
   "source": [
    "raw_data['number_seps_tipologia']=raw_data['tipologia'].str.count(r'\\|')\n",
    "raw_data['number_seps_tipologia'].value_counts()"
   ]
  },
  {
   "cell_type": "code",
   "execution_count": 21,
   "metadata": {},
   "outputs": [],
   "source": [
    "raw_data_type0 = raw_data[raw_data['number_seps_tipologia']==0].copy().reset_index(drop=True)\n",
    "raw_data_type0['tipologia_casa'] = raw_data_type0['tipologia']"
   ]
  },
  {
   "cell_type": "code",
   "execution_count": 22,
   "metadata": {},
   "outputs": [],
   "source": [
    "raw_data_type1 = raw_data[raw_data['number_seps_tipologia']==1].copy().reset_index(drop=True)\n",
    "raw_data_type1[['tipologia_casa', 'to_fix']] = raw_data_type1['tipologia'].str.split('|', expand=True)\n",
    "raw_data_type1['classe_casa']='missing'\n",
    "raw_data_type1.loc[raw_data_type1['to_fix'].str.lower().str.contains('classe'), 'classe_casa']=raw_data_type1.loc[raw_data_type1['to_fix'].str.lower().str.contains('classe'), 'to_fix'].str.strip()\n",
    "raw_data_type1['property_type']='missing'\n",
    "raw_data_type1.loc[~raw_data_type1['to_fix'].str.lower().str.contains('classe'), 'property_type']=raw_data_type1.loc[~raw_data_type1['to_fix'].str.lower().str.contains('classe'), 'to_fix'].str.strip()\n",
    "raw_data_type1.drop('to_fix', axis=1, inplace=True)"
   ]
  },
  {
   "cell_type": "code",
   "execution_count": 23,
   "metadata": {},
   "outputs": [],
   "source": [
    "raw_data_type2 = raw_data[raw_data['number_seps_tipologia']==2].copy().reset_index(drop=True)\n",
    "raw_data_type2[['tipologia_casa', 'tipologia_proprietà', 'classe_casa']] = raw_data_type2['tipologia'].str.split('|', expand=True)"
   ]
  },
  {
   "cell_type": "code",
   "execution_count": 24,
   "metadata": {},
   "outputs": [
    {
     "data": {
      "text/plain": [
       "(17506, 28)"
      ]
     },
     "execution_count": 24,
     "metadata": {},
     "output_type": "execute_result"
    }
   ],
   "source": [
    "raw_data = pd.concat([raw_data_type0, raw_data_type1, raw_data_type2]).reset_index(drop=True)\n",
    "raw_data['tipologia_casa']=raw_data['tipologia_casa'].str.strip()\n",
    "raw_data['tipologia_proprietà']=raw_data['tipologia_proprietà'].str.strip()\n",
    "raw_data['classe_casa']=raw_data['classe_casa'].str.strip()\n",
    "raw_data.drop('tipologia', axis=1, inplace=True)\n",
    "raw_data.loc[raw_data['tipologia_casa'].isna(), 'tipologia_casa']='missing'\n",
    "raw_data.loc[raw_data['classe_casa'].isna(), 'classe_casa']='missing'\n",
    "raw_data.loc[raw_data['tipologia_proprietà'].isna(), 'tipologia_proprietà']='missing'\n",
    "raw_data.shape"
   ]
  },
  {
   "cell_type": "markdown",
   "metadata": {},
   "source": [
    "### Clean Posti auto"
   ]
  },
  {
   "cell_type": "code",
   "execution_count": 25,
   "metadata": {},
   "outputs": [],
   "source": [
    "def extract_posti_auto(s):\n",
    "    return sum([int(i) for i in re.findall(r'[0-9]+',s)])"
   ]
  },
  {
   "cell_type": "code",
   "execution_count": 26,
   "metadata": {},
   "outputs": [
    {
     "data": {
      "text/plain": [
       "n posti auto\n",
       "0     7405\n",
       "1     4729\n",
       "2     3129\n",
       "3      844\n",
       "4      670\n",
       "5      271\n",
       "6      172\n",
       "7       76\n",
       "10      54\n",
       "8       43\n",
       "Name: count, dtype: int64"
      ]
     },
     "execution_count": 26,
     "metadata": {},
     "output_type": "execute_result"
    }
   ],
   "source": [
    "raw_data['Posti Auto'] = raw_data['Posti Auto'].fillna('0')\n",
    "raw_data['n posti auto'] = raw_data['Posti Auto'].map(extract_posti_auto)\n",
    "raw_data['n posti auto'].value_counts()[:10]"
   ]
  },
  {
   "cell_type": "code",
   "execution_count": 27,
   "metadata": {},
   "outputs": [
    {
     "data": {
      "text/plain": [
       "box privato\n",
       "False    10556\n",
       "True      6950\n",
       "Name: count, dtype: int64"
      ]
     },
     "execution_count": 27,
     "metadata": {},
     "output_type": "execute_result"
    }
   ],
   "source": [
    "raw_data['box privato'] = raw_data['Posti Auto'].str.contains('privato')\n",
    "raw_data['box privato'].value_counts()"
   ]
  },
  {
   "cell_type": "markdown",
   "metadata": {},
   "source": [
    "### Clean via"
   ]
  },
  {
   "cell_type": "code",
   "execution_count": 28,
   "metadata": {},
   "outputs": [],
   "source": [
    "raw_data.loc[raw_data['via'].isna(), 'via'] = 'missing'"
   ]
  },
  {
   "cell_type": "markdown",
   "metadata": {},
   "source": [
    "### Other Characteristics"
   ]
  },
  {
   "cell_type": "code",
   "execution_count": 29,
   "metadata": {},
   "outputs": [],
   "source": [
    "other_characteristics_full = raw_data['other_characteristics'].fillna('missing').to_list()\n",
    "other_characteristics_partial = [i[1:-1].replace(\"'\",\"\").split(', ') for i in other_characteristics_full]\n",
    "other_characteristics_clean = [i for x in other_characteristics_partial for i in x]"
   ]
  },
  {
   "cell_type": "code",
   "execution_count": 30,
   "metadata": {},
   "outputs": [
    {
     "data": {
      "text/plain": [
       "{'Balcone': 10904,\n",
       " 'Impianto tv singolo': 5404,\n",
       " 'Infissi esterni in vetro / legno': 3056,\n",
       " 'Porta blindata': 11845,\n",
       " 'Parzialmente Arredato': 2216,\n",
       " 'Cantina': 7793,\n",
       " 'Esposizione doppia': 6775,\n",
       " 'Arredato': 1972,\n",
       " 'Caminetto': 2779,\n",
       " 'Giardino privato': 5066,\n",
       " 'Infissi esterni in doppio vetro / legno': 4291,\n",
       " 'Terrazza': 7642,\n",
       " 'Impianto di allarme': 4286,\n",
       " 'Portiere intera giornata': 2075,\n",
       " 'Giardino comune': 3282,\n",
       " 'VideoCitofono': 5869,\n",
       " 'Portiere mezza giornata': 424,\n",
       " 'Cancello elettrico': 7488,\n",
       " 'Fibra ottica': 7627,\n",
       " 'Armadio a muro': 4354,\n",
       " 'Piscina': 770,\n",
       " 'Impianto tv centralizzato': 7369,\n",
       " 'Infissi esterni in doppio vetro / PVC': 3428,\n",
       " 'Idromassaggio': 926,\n",
       " 'Mansarda': 1905,\n",
       " 'Infissi esterni in triplo vetro / PVC': 576,\n",
       " 'Infissi esterni in vetro / PVC': 687,\n",
       " 'Infissi esterni in vetro / metallo': 729,\n",
       " 'Infissi esterni in doppio vetro / metallo': 1366,\n",
       " 'Giardino privato e comune': 64,\n",
       " 'Infissi esterni in triplo vetro / legno': 266,\n",
       " 'Infissi esterni in triplo vetro / metallo': 137}"
      ]
     },
     "execution_count": 30,
     "metadata": {},
     "output_type": "execute_result"
    }
   ],
   "source": [
    "top_characteristics = Counter(other_characteristics_clean)\n",
    "\n",
    "relevant_characteristics = {k:v for k, v in top_characteristics.items() if (v>1700 or 'infissi' in k.lower() or 'giardino' in k.lower() or k.lower() in ['idromassaggio', 'piscina'] or 'portiere' in k.lower()) \n",
    "                            and k.lower() not in ['issin', 'esposizione esterna']}\n",
    "relevant_characteristics"
   ]
  },
  {
   "cell_type": "code",
   "execution_count": 31,
   "metadata": {},
   "outputs": [],
   "source": [
    "original_features = set(raw_data.columns)\n",
    "raw_data['other_characteristics'] = raw_data['other_characteristics'].fillna('missing')\n",
    "\n",
    "first_additions = [k for k in relevant_characteristics.keys() if 'infissi' not in k.lower() and 'giardino' not in k.lower() \n",
    "                   and 'portiere' not in k.lower() and 'idromassaggio' not in k.lower() and 'piscina' not in k.lower()]\n",
    "for k in first_additions:\n",
    "    raw_data[k.lower()] = raw_data['other_characteristics'].str.lower().str.contains(k.lower())\n",
    "    \n",
    "raw_data['giardino']='missing' \n",
    "raw_data['infissi']='missing' \n",
    "raw_data['portiere']=False\n",
    "raw_data['piscina_idromassaggio']=False\n",
    "for row in range(raw_data.shape[0]):\n",
    "    if 'giardino comune' in raw_data.loc[row, 'other_characteristics'].lower():\n",
    "        raw_data.loc[row, 'giardino'] = 'comune'\n",
    "    if 'giardino privato' in raw_data.loc[row, 'other_characteristics'].lower() or  'Giardino privato e comune' in raw_data.loc[row, 'other_characteristics'].lower():\n",
    "        raw_data.loc[row, 'giardino'] = 'privato'\n",
    "        \n",
    "    if 'infissi esterni in doppio' in raw_data.loc[row, 'other_characteristics'].lower():\n",
    "        raw_data.loc[row, 'infissi'] = 'doppio'\n",
    "    if 'infissi esterni in vetro' in raw_data.loc[row, 'other_characteristics'].lower():\n",
    "        raw_data.loc[row, 'infissi'] = 'singolo'\n",
    "    if 'infissi esterni in triplo' in raw_data.loc[row, 'other_characteristics'].lower():\n",
    "        raw_data.loc[row, 'infissi'] = 'triplo'\n",
    "        \n",
    "    if 'portiere' in raw_data.loc[row, 'other_characteristics'].lower():\n",
    "        raw_data.loc[row, 'portiere'] = True\n",
    "    if 'piscina' in raw_data.loc[row, 'other_characteristics'].lower() or  'idromassaggio' in raw_data.loc[row, 'other_characteristics'].lower():\n",
    "        raw_data.loc[row, 'piscina_idromassaggio'] = True"
   ]
  },
  {
   "cell_type": "markdown",
   "metadata": {},
   "source": [
    "### Remove duplicates"
   ]
  },
  {
   "cell_type": "code",
   "execution_count": 32,
   "metadata": {},
   "outputs": [
    {
     "name": "stdout",
     "output_type": "stream",
     "text": [
      "N Duplicates dropped: 1273\n"
     ]
    }
   ],
   "source": [
    "print('N Duplicates dropped:', raw_data.shape[0]- raw_data.drop_duplicates(['prezzo','description']).shape[0])\n",
    "raw_data = raw_data.sort_values('delta_pubblicazione').drop_duplicates(['prezzo','description'], ignore_index=True, keep='first')"
   ]
  },
  {
   "cell_type": "markdown",
   "metadata": {},
   "source": [
    "### Save Data"
   ]
  },
  {
   "cell_type": "code",
   "execution_count": 33,
   "metadata": {},
   "outputs": [],
   "source": [
    "useful_cols = ['citta', 'bagni', 'stanze', 'piano', 'regione',\n",
    "       'm2', 'quartiere','description', 'via', 'disponibilità', 'prezzo', \n",
    "       'delta_pubblicazione', 'totale_piani',\n",
    "       'ascensore', 'cucina', 'camere',\n",
    "       'tipologia_casa', 'classe_casa', 'tipologia_proprietà',\n",
    "       'n posti auto', 'box privato', 'balcone', 'impianto tv singolo',\n",
    "       'porta blindata', 'parzialmente arredato', 'cantina',\n",
    "       'esposizione doppia', 'arredato', 'caminetto', 'terrazza',\n",
    "       'impianto di allarme', 'portiere','piscina_idromassaggio', 'videocitofono',\n",
    "       'cancello elettrico', 'fibra ottica', 'armadio a muro', \n",
    "       'impianto tv centralizzato', 'mansarda', 'giardino',\n",
    "       'infissi']"
   ]
  },
  {
   "cell_type": "code",
   "execution_count": 34,
   "metadata": {},
   "outputs": [
    {
     "data": {
      "text/html": [
       "<div>\n",
       "<style scoped>\n",
       "    .dataframe tbody tr th:only-of-type {\n",
       "        vertical-align: middle;\n",
       "    }\n",
       "\n",
       "    .dataframe tbody tr th {\n",
       "        vertical-align: top;\n",
       "    }\n",
       "\n",
       "    .dataframe thead th {\n",
       "        text-align: right;\n",
       "    }\n",
       "</style>\n",
       "<table border=\"1\" class=\"dataframe\">\n",
       "  <thead>\n",
       "    <tr style=\"text-align: right;\">\n",
       "      <th></th>\n",
       "      <th>Missings</th>\n",
       "    </tr>\n",
       "  </thead>\n",
       "  <tbody>\n",
       "    <tr>\n",
       "      <th>citta</th>\n",
       "      <td>0.0</td>\n",
       "    </tr>\n",
       "    <tr>\n",
       "      <th>balcone</th>\n",
       "      <td>0.0</td>\n",
       "    </tr>\n",
       "    <tr>\n",
       "      <th>porta blindata</th>\n",
       "      <td>0.0</td>\n",
       "    </tr>\n",
       "    <tr>\n",
       "      <th>parzialmente arredato</th>\n",
       "      <td>0.0</td>\n",
       "    </tr>\n",
       "    <tr>\n",
       "      <th>cantina</th>\n",
       "      <td>0.0</td>\n",
       "    </tr>\n",
       "    <tr>\n",
       "      <th>esposizione doppia</th>\n",
       "      <td>0.0</td>\n",
       "    </tr>\n",
       "    <tr>\n",
       "      <th>arredato</th>\n",
       "      <td>0.0</td>\n",
       "    </tr>\n",
       "    <tr>\n",
       "      <th>caminetto</th>\n",
       "      <td>0.0</td>\n",
       "    </tr>\n",
       "    <tr>\n",
       "      <th>terrazza</th>\n",
       "      <td>0.0</td>\n",
       "    </tr>\n",
       "    <tr>\n",
       "      <th>impianto di allarme</th>\n",
       "      <td>0.0</td>\n",
       "    </tr>\n",
       "    <tr>\n",
       "      <th>portiere</th>\n",
       "      <td>0.0</td>\n",
       "    </tr>\n",
       "    <tr>\n",
       "      <th>piscina_idromassaggio</th>\n",
       "      <td>0.0</td>\n",
       "    </tr>\n",
       "    <tr>\n",
       "      <th>videocitofono</th>\n",
       "      <td>0.0</td>\n",
       "    </tr>\n",
       "    <tr>\n",
       "      <th>cancello elettrico</th>\n",
       "      <td>0.0</td>\n",
       "    </tr>\n",
       "    <tr>\n",
       "      <th>fibra ottica</th>\n",
       "      <td>0.0</td>\n",
       "    </tr>\n",
       "    <tr>\n",
       "      <th>armadio a muro</th>\n",
       "      <td>0.0</td>\n",
       "    </tr>\n",
       "    <tr>\n",
       "      <th>impianto tv centralizzato</th>\n",
       "      <td>0.0</td>\n",
       "    </tr>\n",
       "    <tr>\n",
       "      <th>mansarda</th>\n",
       "      <td>0.0</td>\n",
       "    </tr>\n",
       "    <tr>\n",
       "      <th>giardino</th>\n",
       "      <td>0.0</td>\n",
       "    </tr>\n",
       "    <tr>\n",
       "      <th>impianto tv singolo</th>\n",
       "      <td>0.0</td>\n",
       "    </tr>\n",
       "    <tr>\n",
       "      <th>box privato</th>\n",
       "      <td>0.0</td>\n",
       "    </tr>\n",
       "    <tr>\n",
       "      <th>bagni</th>\n",
       "      <td>0.0</td>\n",
       "    </tr>\n",
       "    <tr>\n",
       "      <th>n posti auto</th>\n",
       "      <td>0.0</td>\n",
       "    </tr>\n",
       "    <tr>\n",
       "      <th>stanze</th>\n",
       "      <td>0.0</td>\n",
       "    </tr>\n",
       "    <tr>\n",
       "      <th>piano</th>\n",
       "      <td>0.0</td>\n",
       "    </tr>\n",
       "    <tr>\n",
       "      <th>regione</th>\n",
       "      <td>0.0</td>\n",
       "    </tr>\n",
       "    <tr>\n",
       "      <th>m2</th>\n",
       "      <td>0.0</td>\n",
       "    </tr>\n",
       "    <tr>\n",
       "      <th>quartiere</th>\n",
       "      <td>0.0</td>\n",
       "    </tr>\n",
       "    <tr>\n",
       "      <th>description</th>\n",
       "      <td>0.0</td>\n",
       "    </tr>\n",
       "    <tr>\n",
       "      <th>via</th>\n",
       "      <td>0.0</td>\n",
       "    </tr>\n",
       "    <tr>\n",
       "      <th>disponibilità</th>\n",
       "      <td>0.0</td>\n",
       "    </tr>\n",
       "    <tr>\n",
       "      <th>prezzo</th>\n",
       "      <td>0.0</td>\n",
       "    </tr>\n",
       "    <tr>\n",
       "      <th>delta_pubblicazione</th>\n",
       "      <td>0.0</td>\n",
       "    </tr>\n",
       "    <tr>\n",
       "      <th>totale_piani</th>\n",
       "      <td>0.0</td>\n",
       "    </tr>\n",
       "    <tr>\n",
       "      <th>ascensore</th>\n",
       "      <td>0.0</td>\n",
       "    </tr>\n",
       "    <tr>\n",
       "      <th>cucina</th>\n",
       "      <td>0.0</td>\n",
       "    </tr>\n",
       "    <tr>\n",
       "      <th>camere</th>\n",
       "      <td>0.0</td>\n",
       "    </tr>\n",
       "    <tr>\n",
       "      <th>tipologia_casa</th>\n",
       "      <td>0.0</td>\n",
       "    </tr>\n",
       "    <tr>\n",
       "      <th>classe_casa</th>\n",
       "      <td>0.0</td>\n",
       "    </tr>\n",
       "    <tr>\n",
       "      <th>tipologia_proprietà</th>\n",
       "      <td>0.0</td>\n",
       "    </tr>\n",
       "    <tr>\n",
       "      <th>infissi</th>\n",
       "      <td>0.0</td>\n",
       "    </tr>\n",
       "  </tbody>\n",
       "</table>\n",
       "</div>"
      ],
      "text/plain": [
       "                           Missings\n",
       "citta                           0.0\n",
       "balcone                         0.0\n",
       "porta blindata                  0.0\n",
       "parzialmente arredato           0.0\n",
       "cantina                         0.0\n",
       "esposizione doppia              0.0\n",
       "arredato                        0.0\n",
       "caminetto                       0.0\n",
       "terrazza                        0.0\n",
       "impianto di allarme             0.0\n",
       "portiere                        0.0\n",
       "piscina_idromassaggio           0.0\n",
       "videocitofono                   0.0\n",
       "cancello elettrico              0.0\n",
       "fibra ottica                    0.0\n",
       "armadio a muro                  0.0\n",
       "impianto tv centralizzato       0.0\n",
       "mansarda                        0.0\n",
       "giardino                        0.0\n",
       "impianto tv singolo             0.0\n",
       "box privato                     0.0\n",
       "bagni                           0.0\n",
       "n posti auto                    0.0\n",
       "stanze                          0.0\n",
       "piano                           0.0\n",
       "regione                         0.0\n",
       "m2                              0.0\n",
       "quartiere                       0.0\n",
       "description                     0.0\n",
       "via                             0.0\n",
       "disponibilità                   0.0\n",
       "prezzo                          0.0\n",
       "delta_pubblicazione             0.0\n",
       "totale_piani                    0.0\n",
       "ascensore                       0.0\n",
       "cucina                          0.0\n",
       "camere                          0.0\n",
       "tipologia_casa                  0.0\n",
       "classe_casa                     0.0\n",
       "tipologia_proprietà             0.0\n",
       "infissi                         0.0"
      ]
     },
     "execution_count": 34,
     "metadata": {},
     "output_type": "execute_result"
    }
   ],
   "source": [
    "raw_data = raw_data[useful_cols]\n",
    "(100*raw_data.isna().sum()/raw_data.shape[0]).to_frame().rename({0:'Missings'}, axis=1).sort_values('Missings', ascending=False).round(2)"
   ]
  },
  {
   "cell_type": "code",
   "execution_count": 35,
   "metadata": {},
   "outputs": [],
   "source": [
    "raw_data.to_csv('../data/sale_data/1_sale_clean.csv', index=False)"
   ]
  }
 ],
 "metadata": {
  "kernelspec": {
   "display_name": "house_env",
   "language": "python",
   "name": "python3"
  },
  "language_info": {
   "codemirror_mode": {
    "name": "ipython",
    "version": 3
   },
   "file_extension": ".py",
   "mimetype": "text/x-python",
   "name": "python",
   "nbconvert_exporter": "python",
   "pygments_lexer": "ipython3",
   "version": "3.11.9"
  }
 },
 "nbformat": 4,
 "nbformat_minor": 2
}
