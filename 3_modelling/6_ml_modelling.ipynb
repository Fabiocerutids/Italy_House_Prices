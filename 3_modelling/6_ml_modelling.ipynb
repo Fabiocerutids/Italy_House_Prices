{
 "cells": [
  {
   "cell_type": "code",
   "execution_count": 1,
   "metadata": {},
   "outputs": [
    {
     "name": "stderr",
     "output_type": "stream",
     "text": [
      "c:\\Users\\faceru\\OneDrive - SAS\\Documents\\Personal\\Italy_House_Prices\\house_env\\Lib\\site-packages\\tqdm\\auto.py:21: TqdmWarning: IProgress not found. Please update jupyter and ipywidgets. See https://ipywidgets.readthedocs.io/en/stable/user_install.html\n",
      "  from .autonotebook import tqdm as notebook_tqdm\n"
     ]
    }
   ],
   "source": [
    "import pandas as pd \n",
    "import pickle\n",
    "import numpy as np\n",
    "import random \n",
    "\n",
    "from ml_optfit.ml_optfit import HyperOptim\n",
    "from sklearn.metrics import mean_squared_error\n",
    "import lightgbm as lgb \n",
    "import xgboost as xg\n",
    "SEED=42\n",
    "random.seed(SEED)\n",
    "np.random.seed(seed=SEED)\n",
    "pd.set_option('display.max_columns', None)\n",
    "pd.set_option('display.float_format', lambda x: '%.2f' % x)"
   ]
  },
  {
   "cell_type": "code",
   "execution_count": 2,
   "metadata": {},
   "outputs": [],
   "source": [
    "train = pd.read_csv('../data/modelling_data/train.csv')\n",
    "valid = pd.read_csv('../data/modelling_data/valid.csv')"
   ]
  },
  {
   "cell_type": "code",
   "execution_count": 3,
   "metadata": {},
   "outputs": [],
   "source": [
    "features = train.select_dtypes(include=[np.number, bool]).columns\n",
    "features = [i for i in features if i not in ['prezzo', 'log_prezzo', 'log_m2'] and 'emb_' not in i]\n",
    "target='prezzo'"
   ]
  },
  {
   "cell_type": "markdown",
   "metadata": {},
   "source": [
    "### Lightgbm Model"
   ]
  },
  {
   "cell_type": "code",
   "execution_count": null,
   "metadata": {},
   "outputs": [
    {
     "name": "stderr",
     "output_type": "stream",
     "text": [
      "Best trial: 102. Best value: 2.22638e+10: 100%|██████████| 150/150 [03:41<00:00,  1.48s/it]\n"
     ]
    }
   ],
   "source": [
    "hyperopt=HyperOptim(direction='minimize', \n",
    "                    train=train, \n",
    "                    valid=valid, \n",
    "                    features=features, \n",
    "                    target=target, \n",
    "                    prediction_type='regression',\n",
    "                    evaluation_func=mean_squared_error)\n",
    "\n",
    "lightgbm_hyper_dict = {\n",
    "                    'n_estimators':\n",
    "                            {'type': 'int',\n",
    "                            'low': 500,\n",
    "                            'high':2000,\n",
    "                            'log':False,\n",
    "                            'step':100},\n",
    "                    'boosting_type':\n",
    "                            {'type':'class',\n",
    "                             'values':['gbdt']},\n",
    "                    'num_leaves':\n",
    "                            {'type':'int',\n",
    "                             'low':5,\n",
    "                             'high':31},\n",
    "                    'learning_rate':\n",
    "                            {'type':'float',\n",
    "                             'low':0.001,\n",
    "                             'high':0.1,\n",
    "                             'log':True},\n",
    "                    'reg_lambda':\n",
    "                            {'type':'float',\n",
    "                             'low':0,\n",
    "                             'high':10},\n",
    "                    'reg_alpha':\n",
    "                            {'type':'float',\n",
    "                             'low':0,\n",
    "                             'high':10},\n",
    "                    'subsample':\n",
    "                            {'type':'float',\n",
    "                             'low':0,\n",
    "                             'high':1},\n",
    "                    'subsample_freq':\n",
    "                            {'type':'int',\n",
    "                             'low':0,\n",
    "                             'high':2},\n",
    "                    'min_child_samples':\n",
    "                            {'type':'int',\n",
    "                             'low':1,\n",
    "                             'high':20},\n",
    "                    'n_jobs':\n",
    "                            {'type':'class',\n",
    "                             'values':[-1]}\n",
    "                            }\n",
    "\n",
    "study, best_hyper, best_model=hyperopt.optimize_model(model_type=lgb.LGBMRegressor, \n",
    "                       study_name='lightgbm', \n",
    "                       hyperparam_dict=lightgbm_hyper_dict, \n",
    "                       multivariate=True, \n",
    "                       n_trials=150)"
   ]
  },
  {
   "cell_type": "code",
   "execution_count": 53,
   "metadata": {},
   "outputs": [],
   "source": [
    "with open('artifacts/lightgbm_reg/lightgbm_regressor.pkl','wb') as f:\n",
    "    pickle.dump(best_model, f)\n",
    "    \n",
    "with open('artifacts/lightgbm_reg/study.pkl','wb') as f:\n",
    "    pickle.dump(study, f)"
   ]
  },
  {
   "cell_type": "markdown",
   "metadata": {},
   "source": [
    "### XGBoost Regressor"
   ]
  },
  {
   "cell_type": "code",
   "execution_count": 22,
   "metadata": {},
   "outputs": [
    {
     "name": "stderr",
     "output_type": "stream",
     "text": [
      "  0%|          | 0/150 [00:00<?, ?it/s]"
     ]
    },
    {
     "name": "stderr",
     "output_type": "stream",
     "text": [
      "Best trial: 126. Best value: 2.25762e+10: 100%|██████████| 150/150 [03:25<00:00,  1.37s/it]\n"
     ]
    }
   ],
   "source": [
    "hyperopt=HyperOptim(direction='minimize', \n",
    "                    train=train, \n",
    "                    valid=valid, \n",
    "                    features=features, \n",
    "                    target=target, \n",
    "                    prediction_type='regression',\n",
    "                    evaluation_func=mean_squared_error)\n",
    "\n",
    "xgboost_hyper_dict = {\n",
    "                    'n_estimators':\n",
    "                            {'type': 'int',\n",
    "                            'low': 500,\n",
    "                            'high':2000,\n",
    "                            'log':False,\n",
    "                            'step':100},\n",
    "                    'max_depth':\n",
    "                            {'type':'int',\n",
    "                             'low':4,\n",
    "                             'high':8},\n",
    "                    'max_leaves':\n",
    "                            {'type':'int',\n",
    "                             'low':5,\n",
    "                             'high':31},\n",
    "                    'learning_rate':\n",
    "                            {'type':'float',\n",
    "                             'low':0.001,\n",
    "                             'high':0.1,\n",
    "                             'log':True},\n",
    "                    'reg_lambda':\n",
    "                            {'type':'float',\n",
    "                             'low':0,\n",
    "                             'high':10},\n",
    "                    'reg_alpha':\n",
    "                            {'type':'float',\n",
    "                             'low':0,\n",
    "                             'high':10},\n",
    "                    'subsample':\n",
    "                            {'type':'float',\n",
    "                             'low':0,\n",
    "                             'high':1},\n",
    "                    'grow_policy':\n",
    "                            {'type':'class',\n",
    "                             'values':['depthwise','lossguide']},\n",
    "                    'n_jobs':\n",
    "                            {'type':'class',\n",
    "                             'values':[-1]},\n",
    "                    'objective':\n",
    "                            {'type':'class',\n",
    "                             'values':['reg:linear']}\n",
    "                            }\n",
    "\n",
    "study, best_hyper, best_model=hyperopt.optimize_model(model_type=xg.XGBRegressor, \n",
    "                       study_name='xgboost', \n",
    "                       hyperparam_dict=xgboost_hyper_dict, \n",
    "                       multivariate=True, \n",
    "                       n_trials=150)"
   ]
  },
  {
   "cell_type": "code",
   "execution_count": 26,
   "metadata": {},
   "outputs": [],
   "source": [
    "with open('artifacts/xgboost_reg/xgboost_regressor.pkl','wb') as f:\n",
    "    pickle.dump(best_model, f)\n",
    "    \n",
    "with open('artifacts/xgboost_reg/study.pkl','wb') as f:\n",
    "    pickle.dump(study, f)"
   ]
  }
 ],
 "metadata": {
  "kernelspec": {
   "display_name": "house_env",
   "language": "python",
   "name": "python3"
  },
  "language_info": {
   "codemirror_mode": {
    "name": "ipython",
    "version": 3
   },
   "file_extension": ".py",
   "mimetype": "text/x-python",
   "name": "python",
   "nbconvert_exporter": "python",
   "pygments_lexer": "ipython3",
   "version": "3.11.9"
  }
 },
 "nbformat": 4,
 "nbformat_minor": 2
}
