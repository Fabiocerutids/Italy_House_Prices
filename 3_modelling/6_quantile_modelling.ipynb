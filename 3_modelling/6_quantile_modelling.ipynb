{
 "cells": [
  {
   "cell_type": "code",
   "execution_count": 1,
   "metadata": {},
   "outputs": [
    {
     "name": "stderr",
     "output_type": "stream",
     "text": [
      "c:\\Users\\faceru\\OneDrive - SAS\\Personal\\Italy_House_Prices\\house_env\\Lib\\site-packages\\tqdm\\auto.py:21: TqdmWarning: IProgress not found. Please update jupyter and ipywidgets. See https://ipywidgets.readthedocs.io/en/stable/user_install.html\n",
      "  from .autonotebook import tqdm as notebook_tqdm\n"
     ]
    }
   ],
   "source": [
    "import pandas as pd \n",
    "import pickle\n",
    "import numpy as np\n",
    "import random \n",
    "from collections import defaultdict\n",
    "\n",
    "from ml_optfit.ml_optfit import HyperOptim\n",
    "from sklearn.metrics import d2_pinball_score\n",
    "import lightgbm as lgb \n",
    "import xgboost as xg\n",
    "SEED=42\n",
    "random.seed(SEED)\n",
    "np.random.seed(seed=SEED)\n",
    "pd.set_option('display.max_columns', None)\n",
    "pd.set_option('display.float_format', lambda x: '%.2f' % x)"
   ]
  },
  {
   "cell_type": "code",
   "execution_count": 2,
   "metadata": {},
   "outputs": [],
   "source": [
    "train = pd.read_csv('../data/modelling_data/train.csv')\n",
    "valid = pd.read_csv('../data/modelling_data/valid.csv')"
   ]
  },
  {
   "cell_type": "code",
   "execution_count": 3,
   "metadata": {},
   "outputs": [],
   "source": [
    "features = train.select_dtypes(include=[np.number, bool]).columns\n",
    "features = [i for i in features if i not in ['prezzo', 'log_prezzo', 'log_m2'] and 'emb_' not in i]\n",
    "target='prezzo'\n",
    "target_quantiles = [0.05, 0.5, 0.95]"
   ]
  },
  {
   "cell_type": "markdown",
   "metadata": {},
   "source": [
    "### Lightgbm Model"
   ]
  },
  {
   "cell_type": "code",
   "execution_count": 4,
   "metadata": {},
   "outputs": [
    {
     "name": "stderr",
     "output_type": "stream",
     "text": [
      "Best trial: 79. Best value: 0.346278: 100%|██████████| 150/150 [03:31<00:00,  1.41s/it]\n",
      "Best trial: 95. Best value: 0.536008: 100%|██████████| 150/150 [08:01<00:00,  3.21s/it]\n",
      "Best trial: 111. Best value: 0.661583: 100%|██████████| 150/150 [03:46<00:00,  1.51s/it]\n"
     ]
    }
   ],
   "source": [
    "saving_dict = defaultdict(dict)\n",
    "for target_q in target_quantiles:\n",
    "    hyperopt=HyperOptim(direction='maximize', \n",
    "                        train=train, \n",
    "                        valid=valid, \n",
    "                        features=features, \n",
    "                        target=target, \n",
    "                        prediction_type='quantile',\n",
    "                        evaluation_func=d2_pinball_score,\n",
    "                        target_quantile=target_q)\n",
    "\n",
    "    lightgbm_hyper_dict = {\n",
    "                        'n_estimators':\n",
    "                                {'type': 'int',\n",
    "                                'low': 500,\n",
    "                                'high':2000,\n",
    "                                'log':False,\n",
    "                                'step':100},\n",
    "                        'boosting_type':\n",
    "                                {'type':'class',\n",
    "                                'values':['gbdt']},\n",
    "                        'num_leaves':\n",
    "                                {'type':'int',\n",
    "                                'low':5,\n",
    "                                'high':45},\n",
    "                        'min_data_in_leaf':\n",
    "                                {'type':'int',\n",
    "                                'low':5,\n",
    "                                'high':35},\n",
    "                        'learning_rate':\n",
    "                                {'type':'float',\n",
    "                                'low':0.001,\n",
    "                                'high':0.1,\n",
    "                                'log':True},\n",
    "                        'reg_lambda':\n",
    "                                {'type':'float',\n",
    "                                'low':0,\n",
    "                                'high':10},\n",
    "                        'reg_alpha':\n",
    "                                {'type':'float',\n",
    "                                'low':0,\n",
    "                                'high':10},\n",
    "                        'subsample':\n",
    "                                {'type':'float',\n",
    "                                'low':0,\n",
    "                                'high':1},\n",
    "                        'subsample_freq':\n",
    "                                {'type':'int',\n",
    "                                'low':0,\n",
    "                                'high':2},\n",
    "                        'min_child_samples':\n",
    "                                {'type':'int',\n",
    "                                'low':1,\n",
    "                                'high':30},\n",
    "                        'n_jobs':\n",
    "                                {'type':'class',\n",
    "                                'values':[-1]},\n",
    "                        'objective':\n",
    "                                {'type':'class',\n",
    "                                'values':['quantile']},\n",
    "                        'alpha':\n",
    "                                {'type':'class',\n",
    "                                'values':[target_q]}\n",
    "                                }\n",
    "\n",
    "    study, best_hyper, best_model=hyperopt.optimize_model(model_type=lgb.LGBMRegressor, \n",
    "                        study_name='lightgbm', \n",
    "                        hyperparam_dict=lightgbm_hyper_dict, \n",
    "                        multivariate=True, \n",
    "                        n_trials=150)\n",
    "    saving_dict[f'lightgbm_q{target_q}']['study']=study\n",
    "    saving_dict[f'lightgbm_q{target_q}']['model']=best_model"
   ]
  },
  {
   "cell_type": "code",
   "execution_count": 8,
   "metadata": {},
   "outputs": [],
   "source": [
    "with open('artifacts/lightgbm_reg/quantile_lightgbm.pkl','wb') as f:\n",
    "    pickle.dump(saving_dict, f)"
   ]
  },
  {
   "cell_type": "markdown",
   "metadata": {},
   "source": [
    "### XGBoost Regressor"
   ]
  },
  {
   "cell_type": "code",
   "execution_count": 4,
   "metadata": {},
   "outputs": [
    {
     "name": "stderr",
     "output_type": "stream",
     "text": [
      "Best trial: 113. Best value: 0.350718: 100%|██████████| 150/150 [07:02<00:00,  2.82s/it]\n",
      "Best trial: 130. Best value: 0.531795: 100%|██████████| 150/150 [08:17<00:00,  3.32s/it]\n",
      "Best trial: 68. Best value: 0.665282: 100%|██████████| 150/150 [05:37<00:00,  2.25s/it]\n"
     ]
    }
   ],
   "source": [
    "saving_dict = defaultdict(dict)\n",
    "for target_q in target_quantiles:\n",
    "    hyperopt=HyperOptim(direction='maximize', \n",
    "                            train=train, \n",
    "                            valid=valid, \n",
    "                            features=features, \n",
    "                            target=target, \n",
    "                            prediction_type='quantile',\n",
    "                            evaluation_func=d2_pinball_score,\n",
    "                            target_quantile=target_q)\n",
    "\n",
    "    xgboost_hyper_dict = {\n",
    "                        'n_estimators':\n",
    "                                {'type': 'int',\n",
    "                                'low': 500,\n",
    "                                'high':2000,\n",
    "                                'log':False,\n",
    "                                'step':100},\n",
    "                        'max_depth':\n",
    "                                {'type':'int',\n",
    "                                'low':4,\n",
    "                                'high':8},\n",
    "                        'max_leaves':\n",
    "                                {'type':'int',\n",
    "                                'low':5,\n",
    "                                'high':31},\n",
    "                        'learning_rate':\n",
    "                                {'type':'float',\n",
    "                                'low':0.001,\n",
    "                                'high':0.1,\n",
    "                                'log':True},\n",
    "                        'reg_lambda':\n",
    "                                {'type':'float',\n",
    "                                'low':0,\n",
    "                                'high':10},\n",
    "                        'reg_alpha':\n",
    "                                {'type':'float',\n",
    "                                'low':0,\n",
    "                                'high':10},\n",
    "                        'subsample':\n",
    "                                {'type':'float',\n",
    "                                'low':0,\n",
    "                                'high':1},\n",
    "                        'grow_policy':\n",
    "                                {'type':'class',\n",
    "                                'values':['depthwise','lossguide']},\n",
    "                        'n_jobs':\n",
    "                                {'type':'class',\n",
    "                                'values':[-1]},\n",
    "                        'objective':\n",
    "                                {'type':'class',\n",
    "                                'values':['reg:quantileerror']},\n",
    "                        'quantile_alpha':\n",
    "                                {'type':'class',\n",
    "                                'values':[target_q]}\n",
    "                                }\n",
    "\n",
    "    study, best_hyper, best_model=hyperopt.optimize_model(model_type=xg.XGBRegressor, \n",
    "                        study_name='xgboost', \n",
    "                        hyperparam_dict=xgboost_hyper_dict, \n",
    "                        multivariate=True, \n",
    "                        n_trials=150)\n",
    "    saving_dict[f'xgboost_q{target_q}']['study']=study\n",
    "    saving_dict[f'xgboost_q{target_q}']['model']=best_model"
   ]
  },
  {
   "cell_type": "code",
   "execution_count": 5,
   "metadata": {},
   "outputs": [],
   "source": [
    "with open('artifacts/xgboost_reg/quantile_xgboost.pkl','wb') as f:\n",
    "    pickle.dump(saving_dict, f)"
   ]
  },
  {
   "cell_type": "markdown",
   "metadata": {},
   "source": [
    "### Model Stacking"
   ]
  },
  {
   "cell_type": "code",
   "execution_count": 14,
   "metadata": {},
   "outputs": [],
   "source": [
    "from sklearn.linear_model import QuantileRegressor\n",
    "\n",
    "with open('artifacts/lightgbm_reg/quantile_lightgbm.pkl', 'rb') as fp:\n",
    "    quantile_lightgbm = pickle.load(fp)\n",
    "\n",
    "with open('artifacts/xgboost_reg/quantile_xgboost.pkl', 'rb') as fp:\n",
    "    quantile_xgboost = pickle.load(fp)"
   ]
  },
  {
   "cell_type": "code",
   "execution_count": 15,
   "metadata": {},
   "outputs": [],
   "source": [
    "q_05_lightgbm_pred = quantile_lightgbm['lightgbm_q0.05']['model'].predict(valid[features])\n",
    "q_50_lightgbm_pred = quantile_lightgbm['lightgbm_q0.5']['model'].predict(valid[features])\n",
    "q_95_lightgbm_pred = quantile_lightgbm['lightgbm_q0.95']['model'].predict(valid[features])\n",
    "\n",
    "q_05_xgboost_pred = quantile_xgboost['xgboost_q0.05']['model'].predict(valid[features])\n",
    "q_50_xgboost_pred = quantile_xgboost['xgboost_q0.5']['model'].predict(valid[features])\n",
    "q_95_xgboost_pred = quantile_xgboost['xgboost_q0.95']['model'].predict(valid[features])"
   ]
  },
  {
   "cell_type": "code",
   "execution_count": 23,
   "metadata": {},
   "outputs": [
    {
     "name": "stdout",
     "output_type": "stream",
     "text": [
      "Q05 Pinball 0.3631426092256065\n",
      "Q50 Pinball 0.5379709516745221\n",
      "Q95 Pinball 0.6706758503774621\n"
     ]
    }
   ],
   "source": [
    "q_05_df = pd.DataFrame({'lightgbm_05':q_05_lightgbm_pred, 'xgboost_05':q_05_xgboost_pred})\n",
    "q_05_df['target']=valid[target]\n",
    "model05 = QuantileRegressor(quantile=0.05)\n",
    "model05.fit(q_05_df[['lightgbm_05', 'xgboost_05']], q_05_df['target'])\n",
    "print('Q05 Pinball', d2_pinball_score(q_05_df['target'], model05.predict(q_05_df[['lightgbm_05', 'xgboost_05']]), alpha=0.05))\n",
    "\n",
    "q_50_df = pd.DataFrame({'lightgbm_50':q_50_lightgbm_pred, 'xgboost_50':q_50_xgboost_pred})\n",
    "q_50_df['target']=valid[target]\n",
    "model50 = QuantileRegressor(quantile=0.50)\n",
    "model50.fit(q_50_df[['lightgbm_50', 'xgboost_50']], q_50_df['target'])\n",
    "print('Q50 Pinball', d2_pinball_score(q_50_df['target'], model50.predict(q_50_df[['lightgbm_50', 'xgboost_50']]), alpha=0.50))\n",
    "\n",
    "q_95_df = pd.DataFrame({'lightgbm_95':q_95_lightgbm_pred, 'xgboost_95':q_95_xgboost_pred})\n",
    "q_95_df['target']=valid[target]\n",
    "model95 = QuantileRegressor(quantile=0.95)\n",
    "model95.fit(q_95_df[['lightgbm_95', 'xgboost_95']], q_95_df['target'])\n",
    "print('Q95 Pinball', d2_pinball_score(q_95_df['target'], model95.predict(q_95_df[['lightgbm_95', 'xgboost_95']]), alpha=0.95))"
   ]
  }
 ],
 "metadata": {
  "kernelspec": {
   "display_name": "house_env",
   "language": "python",
   "name": "python3"
  },
  "language_info": {
   "codemirror_mode": {
    "name": "ipython",
    "version": 3
   },
   "file_extension": ".py",
   "mimetype": "text/x-python",
   "name": "python",
   "nbconvert_exporter": "python",
   "pygments_lexer": "ipython3",
   "version": "3.11.9"
  }
 },
 "nbformat": 4,
 "nbformat_minor": 2
}
